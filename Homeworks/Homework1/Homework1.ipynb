{
 "cells": [
  {
   "cell_type": "code",
   "id": "79cf2a7b",
   "metadata": {
    "ExecuteTime": {
     "end_time": "2024-09-17T23:15:38.336106Z",
     "start_time": "2024-09-17T23:15:37.989623Z"
    }
   },
   "source": "import Homework1",
   "outputs": [],
   "execution_count": 1
  },
  {
   "metadata": {},
   "cell_type": "markdown",
   "source": "# Task 2",
   "id": "c103c1df99daf57"
  },
  {
   "cell_type": "code",
   "id": "20fc0c91",
   "metadata": {
    "ExecuteTime": {
     "end_time": "2024-09-17T23:07:28.465825Z",
     "start_time": "2024-09-17T23:07:27.521703Z"
    }
   },
   "source": [
    "EASY = [\n",
    "    {\n",
    "        \"question\": \"I ate 2 pears and 1 apple. How many fruit did I eat?\",\n",
    "        \"answer\": 3\n",
    "    },\n",
    "    {\n",
    "        \"question\": \"I had ten chocolates but ate one. How many remain?\",\n",
    "        \"answer\": 9\n",
    "    }\n",
    "]\n",
    "\n",
    "Homework1.accuracy_zero_shot(EASY)"
   ],
   "outputs": [
    {
     "data": {
      "text/plain": [
       "  0%|          | 0/5 [00:00<?, ?it/s]"
      ],
      "application/vnd.jupyter.widget-view+json": {
       "version_major": 2,
       "version_minor": 0,
       "model_id": "1153f03b1a984141ab197f8b852a616e"
      }
     },
     "metadata": {},
     "output_type": "display_data"
    },
    {
     "data": {
      "text/plain": [
       "[1.0, 1.0, 1.0, 1.0, 1.0]"
      ]
     },
     "execution_count": 2,
     "metadata": {},
     "output_type": "execute_result"
    }
   ],
   "execution_count": 2
  },
  {
   "metadata": {},
   "cell_type": "markdown",
   "source": "# Task 3",
   "id": "d2b58a122ca64962"
  },
  {
   "cell_type": "code",
   "id": "6296a6ff",
   "metadata": {
    "ExecuteTime": {
     "end_time": "2024-09-17T23:15:42.353914Z",
     "start_time": "2024-09-17T23:15:40.085005Z"
    }
   },
   "source": [
    "import datasets\n",
    "\n",
    "TEST = datasets.load_dataset(\"nuprl/llm-systems-math-word-problems\", split=\"test\")"
   ],
   "outputs": [],
   "execution_count": 2
  },
  {
   "metadata": {
    "ExecuteTime": {
     "end_time": "2024-09-17T23:07:53.581684Z",
     "start_time": "2024-09-17T23:07:30.586801Z"
    }
   },
   "cell_type": "code",
   "source": "print(Homework1.accuracy_zero_shot(TEST))",
   "id": "a7a8166aa873b0f6",
   "outputs": [
    {
     "data": {
      "text/plain": [
       "  0%|          | 0/5 [00:00<?, ?it/s]"
      ],
      "application/vnd.jupyter.widget-view+json": {
       "version_major": 2,
       "version_minor": 0,
       "model_id": "ac9da9d951dd4ed0a7ee586726153381"
      }
     },
     "metadata": {},
     "output_type": "display_data"
    },
    {
     "name": "stdout",
     "output_type": "stream",
     "text": [
      "[0.14, 0.14, 0.18, 0.16, 0.14]\n"
     ]
    }
   ],
   "execution_count": 4
  },
  {
   "metadata": {},
   "cell_type": "markdown",
   "source": "# Task 4",
   "id": "8fea2f7e3e0e708a"
  },
  {
   "cell_type": "code",
   "id": "ac642fad",
   "metadata": {
    "ExecuteTime": {
     "end_time": "2024-09-17T23:08:26.485101Z",
     "start_time": "2024-09-17T23:07:53.665324Z"
    }
   },
   "source": "Homework1.accuracy_few_shot(TEST)",
   "outputs": [
    {
     "data": {
      "text/plain": [
       "  0%|          | 0/5 [00:00<?, ?it/s]"
      ],
      "application/vnd.jupyter.widget-view+json": {
       "version_major": 2,
       "version_minor": 0,
       "model_id": "a7def01324114013bb4ca5523c0e32cb"
      }
     },
     "metadata": {},
     "output_type": "display_data"
    },
    {
     "data": {
      "text/plain": [
       "[0.18, 0.16, 0.18, 0.16, 0.18]"
      ]
     },
     "execution_count": 5,
     "metadata": {},
     "output_type": "execute_result"
    }
   ],
   "execution_count": 5
  },
  {
   "metadata": {},
   "cell_type": "markdown",
   "source": "# Task 5",
   "id": "94bd16c2c99bdc99"
  },
  {
   "metadata": {
    "ExecuteTime": {
     "end_time": "2024-09-17T23:23:00.346147Z",
     "start_time": "2024-09-17T23:15:44.386857Z"
    }
   },
   "cell_type": "code",
   "source": "Homework1.accuracy_cot(TEST)",
   "id": "4c60de93d57b0f67",
   "outputs": [
    {
     "data": {
      "text/plain": [
       "  0%|          | 0/5 [00:00<?, ?it/s]"
      ],
      "application/vnd.jupyter.widget-view+json": {
       "version_major": 2,
       "version_minor": 0,
       "model_id": "591c3499c40444c4bee263a6376b1b91"
      }
     },
     "metadata": {},
     "output_type": "display_data"
    },
    {
     "data": {
      "text/plain": [
       "[0.6, 0.6, 0.6, 0.6, 0.6]"
      ]
     },
     "execution_count": 3,
     "metadata": {},
     "output_type": "execute_result"
    }
   ],
   "execution_count": 3
  },
  {
   "metadata": {
    "ExecuteTime": {
     "end_time": "2024-09-17T23:09:53.556839Z",
     "start_time": "2024-09-17T23:09:53.554580Z"
    }
   },
   "cell_type": "code",
   "source": "",
   "id": "76f8756f68c86a0c",
   "outputs": [],
   "execution_count": null
  }
 ],
 "metadata": {
  "kernelspec": {
   "display_name": "Python 3",
   "language": "python",
   "name": "python3"
  },
  "language_info": {
   "codemirror_mode": {
    "name": "ipython",
    "version": 3
   },
   "file_extension": ".py",
   "mimetype": "text/x-python",
   "name": "python",
   "nbconvert_exporter": "python",
   "pygments_lexer": "ipython3",
   "version": "3.9.6"
  }
 },
 "nbformat": 4,
 "nbformat_minor": 5
}
