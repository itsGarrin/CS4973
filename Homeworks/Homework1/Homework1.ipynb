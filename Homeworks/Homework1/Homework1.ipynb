{
 "cells": [
  {
   "cell_type": "code",
   "execution_count": null,
   "id": "initial_id",
   "metadata": {
    "collapsed": true
   },
   "outputs": [],
   "source": [
    "def solve_zero_shot(problem: str) -> Optional[int]\n",
    "    resp = client.chat.completions.create(\n",
    "        model=\"Llama3.1-8B-Base\",\n",
    "        temperature=0.2,\n",
    "        messages=prompt_zero_shot(problem)\n",
    "    )\n",
    "    return extract_zero_shot(resp.choices[0].text)"
   ]
  }
 ],
 "metadata": {
  "kernelspec": {
   "display_name": "Python 3",
   "language": "python",
   "name": "python3"
  },
  "language_info": {
   "codemirror_mode": {
    "name": "ipython",
    "version": 2
   },
   "file_extension": ".py",
   "mimetype": "text/x-python",
   "name": "python",
   "nbconvert_exporter": "python",
   "pygments_lexer": "ipython2",
   "version": "2.7.6"
  }
 },
 "nbformat": 4,
 "nbformat_minor": 5
}
