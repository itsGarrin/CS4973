{
 "cells": [
  {
   "cell_type": "code",
   "execution_count": 96,
   "id": "79cf2a7b",
   "metadata": {},
   "outputs": [
    {
     "name": "stdout",
     "output_type": "stream",
     "text": [
      " 7\n"
     ]
    }
   ],
   "source": [
    "import os\n",
    "from openai import OpenAI\n",
    "from dotenv import load_dotenv\n",
    "\n",
    "load_dotenv()\n",
    "\n",
    "client = OpenAI(base_url=os.getenv(\"URL\"), api_key=os.getenv(\"API_KEY\"))\n",
    "\n",
    "resp = client.completions.create(\n",
    "    model=\"meta-llama/Meta-Llama-3.1-8B\",\n",
    "    temperature=0.2,\n",
    "    max_tokens=100,\n",
    "    stop=[\"\\n\"],\n",
    "    prompt=\"Shakespeare was\",\n",
    ")\n",
    "print(resp.choices[0].text) \n"
   ]
  },
  {
   "cell_type": "code",
   "execution_count": 54,
   "id": "initial_id",
   "metadata": {
    "collapsed": true
   },
   "outputs": [],
   "source": [
    "from typing import List, Optional\n",
    "\n",
    "\n",
    "def prompt_zero_shot(problem: str) -> str:\n",
    "    return problem + \" Correct Answer: \"\n",
    "\n",
    "\n",
    "def extract_zero_shot(completion: str) -> Optional[int]:\n",
    "    if completion.isdigit():\n",
    "        return int(completion)\n",
    "\n",
    "def solve_zero_shot(problem: str) -> Optional[int]:\n",
    "    resp = client.completions.create(\n",
    "        model=\"meta-llama/Meta-Llama-3.1-8B\",\n",
    "        temperature=0.1,\n",
    "        prompt=prompt_zero_shot(problem),\n",
    "        max_tokens=1\n",
    "    )\n",
    "    \n",
    "    return extract_zero_shot(resp.choices[0].text)"
   ]
  },
  {
   "cell_type": "code",
   "execution_count": 87,
   "id": "20fc0c91",
   "metadata": {},
   "outputs": [
    {
     "name": "stderr",
     "output_type": "stream",
     "text": [
      "100%|██████████| 5/5 [00:00<00:00,  6.60it/s]\n"
     ]
    },
    {
     "data": {
      "text/plain": [
       "[1.0, 1.0, 1.0, 1.0, 1.0]"
      ]
     },
     "execution_count": 87,
     "metadata": {},
     "output_type": "execute_result"
    }
   ],
   "source": [
    "from tqdm.auto import tqdm\n",
    "\n",
    "EASY = [\n",
    "    { \n",
    "        \"question\": \"I ate 2 pears and 1 apple. How many fruit did I eat?\",\n",
    "        \"answer\": 3 \n",
    "    },\n",
    "    {\n",
    "        \"question\": \"I had ten chocolates but ate one. How many remain?\",\n",
    "        \"answer\": 9\n",
    "    }\n",
    "]\n",
    "\n",
    "def accuracy_zero_shot(problems: List[dict]) -> List[float]:\n",
    "\n",
    "    accuracies = []\n",
    "\n",
    "    for _ in tqdm(range(5)):\n",
    "        total_correct = 0\n",
    "\n",
    "        for item in problems:\n",
    "            answer = solve_zero_shot(item[\"question\"])\n",
    "\n",
    "            if answer == item[\"answer\"]:\n",
    "                total_correct += 1\n",
    "        accuracies.append(total_correct / len(problems))\n",
    "    \n",
    "    return accuracies\n",
    "\n",
    "accuracy_zero_shot(EASY)\n"
   ]
  },
  {
   "cell_type": "code",
   "execution_count": 88,
   "id": "6296a6ff",
   "metadata": {},
   "outputs": [
    {
     "name": "stderr",
     "output_type": "stream",
     "text": [
      "100%|██████████| 5/5 [00:18<00:00,  3.62s/it]"
     ]
    },
    {
     "name": "stdout",
     "output_type": "stream",
     "text": [
      "[0.16, 0.16, 0.16, 0.14, 0.16]\n"
     ]
    },
    {
     "name": "stderr",
     "output_type": "stream",
     "text": [
      "\n"
     ]
    }
   ],
   "source": [
    "import datasets\n",
    "\n",
    "TEST = datasets.load_dataset(\"nuprl/llm-systems-math-word-problems\", split=\"test\")\n",
    "print(accuracy_zero_shot(TEST))"
   ]
  },
  {
   "cell_type": "code",
   "execution_count": 110,
   "id": "e951535a",
   "metadata": {},
   "outputs": [],
   "source": [
    "def prompt_few_shot(problem: str) -> str:\n",
    "    return f\"\"\"\n",
    "    Question: I ate 2 pears and 1 apple. How many fruit did I eat?\n",
    "    Answer: 3\n",
    "\n",
    "    Question: I had ten chocolates but ate one. How many remain?\n",
    "    Answer: 9\n",
    "\n",
    "    Question: {problem}\n",
    "    Answer:\"\"\"\n",
    "\n",
    "def extract_few_shot(completion: str) -> Optional[int]:\n",
    "    # only extract digits from str\n",
    "    return int(\"\".join(filter(str.isdigit, completion)))\n",
    "\n",
    "def solve_few_shot(problem: str) -> Optional[int]:    \n",
    "    resp = client.completions.create(\n",
    "        model=\"meta-llama/Meta-Llama-3.1-8B\",\n",
    "        temperature=0.2,\n",
    "        prompt=prompt_few_shot(problem),\n",
    "        max_tokens=100,\n",
    "        stop=[\"\\n\"]\n",
    "    )\n",
    "    \n",
    "    return extract_few_shot(resp.choices[0].text)\n",
    "\n",
    "def accuracy_few_shot(problems: List[dict]) -> float:    \n",
    "    accuracies = []\n",
    "\n",
    "    for _ in tqdm(range(5)):\n",
    "        total_correct = 0\n",
    "\n",
    "        for item in problems:\n",
    "            answer = solve_few_shot(item[\"question\"])\n",
    "\n",
    "            if answer == item[\"answer\"]:\n",
    "                total_correct += 1\n",
    "        accuracies.append(total_correct / len(problems))\n",
    "    \n",
    "    return accuracies"
   ]
  },
  {
   "cell_type": "code",
   "execution_count": 111,
   "id": "ac642fad",
   "metadata": {},
   "outputs": [
    {
     "name": "stderr",
     "output_type": "stream",
     "text": [
      "100%|██████████| 5/5 [00:27<00:00,  5.48s/it]\n"
     ]
    },
    {
     "data": {
      "text/plain": [
       "[0.16, 0.16, 0.16, 0.14, 0.14]"
      ]
     },
     "execution_count": 111,
     "metadata": {},
     "output_type": "execute_result"
    }
   ],
   "source": [
    "accuracy_few_shot(TEST)"
   ]
  },
  {
   "cell_type": "code",
   "execution_count": null,
   "id": "9f2ce497",
   "metadata": {},
   "outputs": [],
   "source": []
  },
  {
   "cell_type": "code",
   "execution_count": null,
   "id": "92d74352",
   "metadata": {},
   "outputs": [],
   "source": []
  }
 ],
 "metadata": {
  "kernelspec": {
   "display_name": "Python 3",
   "language": "python",
   "name": "python3"
  },
  "language_info": {
   "codemirror_mode": {
    "name": "ipython",
    "version": 3
   },
   "file_extension": ".py",
   "mimetype": "text/x-python",
   "name": "python",
   "nbconvert_exporter": "python",
   "pygments_lexer": "ipython3",
   "version": "3.9.6"
  }
 },
 "nbformat": 4,
 "nbformat_minor": 5
}
