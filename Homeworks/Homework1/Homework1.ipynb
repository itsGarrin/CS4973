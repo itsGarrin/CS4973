{
 "cells": [
  {
   "cell_type": "code",
   "id": "79cf2a7b",
   "metadata": {
    "ExecuteTime": {
     "end_time": "2024-09-12T22:01:53.371348Z",
     "start_time": "2024-09-12T22:01:53.079933Z"
    }
   },
   "source": "import Homework1",
   "outputs": [],
   "execution_count": 1
  },
  {
   "metadata": {},
   "cell_type": "markdown",
   "source": "# Task 2",
   "id": "c103c1df99daf57"
  },
  {
   "cell_type": "code",
   "id": "20fc0c91",
   "metadata": {
    "ExecuteTime": {
     "end_time": "2024-09-12T22:01:54.260643Z",
     "start_time": "2024-09-12T22:01:53.379943Z"
    }
   },
   "source": [
    "EASY = [\n",
    "    {\n",
    "        \"question\": \"I ate 2 pears and 1 apple. How many fruit did I eat?\",\n",
    "        \"answer\": 3\n",
    "    },\n",
    "    {\n",
    "        \"question\": \"I had ten chocolates but ate one. How many remain?\",\n",
    "        \"answer\": 9\n",
    "    }\n",
    "]\n",
    "\n",
    "Homework1.accuracy_zero_shot(EASY)"
   ],
   "outputs": [
    {
     "data": {
      "text/plain": [
       "  0%|          | 0/5 [00:00<?, ?it/s]"
      ],
      "application/vnd.jupyter.widget-view+json": {
       "version_major": 2,
       "version_minor": 0,
       "model_id": "1fb2b8b02e7a4dd89dbc9e1b44aa5f54"
      }
     },
     "metadata": {},
     "output_type": "display_data"
    },
    {
     "data": {
      "text/plain": [
       "[1.0, 1.0, 1.0, 1.0, 1.0]"
      ]
     },
     "execution_count": 2,
     "metadata": {},
     "output_type": "execute_result"
    }
   ],
   "execution_count": 2
  },
  {
   "metadata": {},
   "cell_type": "markdown",
   "source": "# Task 3",
   "id": "d2b58a122ca64962"
  },
  {
   "cell_type": "code",
   "id": "6296a6ff",
   "metadata": {
    "ExecuteTime": {
     "end_time": "2024-09-12T22:02:18.414345Z",
     "start_time": "2024-09-12T22:01:54.349437Z"
    }
   },
   "source": [
    "import datasets\n",
    "\n",
    "TEST = datasets.load_dataset(\"nuprl/llm-systems-math-word-problems\", split=\"test\")\n",
    "print(Homework1.accuracy_zero_shot(TEST))"
   ],
   "outputs": [
    {
     "data": {
      "text/plain": [
       "  0%|          | 0/5 [00:00<?, ?it/s]"
      ],
      "application/vnd.jupyter.widget-view+json": {
       "version_major": 2,
       "version_minor": 0,
       "model_id": "2689c28f62014471b75aacf750925a12"
      }
     },
     "metadata": {},
     "output_type": "display_data"
    },
    {
     "name": "stdout",
     "output_type": "stream",
     "text": [
      "[0.16, 0.18, 0.14, 0.16, 0.14]\n"
     ]
    }
   ],
   "execution_count": 3
  },
  {
   "metadata": {},
   "cell_type": "markdown",
   "source": "# Task 4",
   "id": "8fea2f7e3e0e708a"
  },
  {
   "cell_type": "code",
   "id": "ac642fad",
   "metadata": {
    "ExecuteTime": {
     "end_time": "2024-09-12T22:02:51.107724Z",
     "start_time": "2024-09-12T22:02:18.427816Z"
    }
   },
   "source": "Homework1.accuracy_few_shot(TEST)",
   "outputs": [
    {
     "data": {
      "text/plain": [
       "  0%|          | 0/5 [00:00<?, ?it/s]"
      ],
      "application/vnd.jupyter.widget-view+json": {
       "version_major": 2,
       "version_minor": 0,
       "model_id": "ca6e57b7b2be4e0fbc0fb41275384118"
      }
     },
     "metadata": {},
     "output_type": "display_data"
    },
    {
     "data": {
      "text/plain": [
       "[0.16, 0.16, 0.18, 0.18, 0.16]"
      ]
     },
     "execution_count": 4,
     "metadata": {},
     "output_type": "execute_result"
    }
   ],
   "execution_count": 4
  },
  {
   "metadata": {
    "ExecuteTime": {
     "end_time": "2024-09-12T22:02:51.188054Z",
     "start_time": "2024-09-12T22:02:51.185361Z"
    }
   },
   "cell_type": "code",
   "source": "",
   "id": "12c5acc53cfc495c",
   "outputs": [],
   "execution_count": null
  }
 ],
 "metadata": {
  "kernelspec": {
   "display_name": "Python 3",
   "language": "python",
   "name": "python3"
  },
  "language_info": {
   "codemirror_mode": {
    "name": "ipython",
    "version": 3
   },
   "file_extension": ".py",
   "mimetype": "text/x-python",
   "name": "python",
   "nbconvert_exporter": "python",
   "pygments_lexer": "ipython3",
   "version": "3.9.6"
  }
 },
 "nbformat": 4,
 "nbformat_minor": 5
}
