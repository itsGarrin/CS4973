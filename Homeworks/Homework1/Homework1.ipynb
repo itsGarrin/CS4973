{
 "cells": [
  {
   "cell_type": "code",
   "execution_count": 1,
   "id": "79cf2a7b",
   "metadata": {
    "ExecuteTime": {
     "end_time": "2024-09-17T23:15:38.336106Z",
     "start_time": "2024-09-17T23:15:37.989623Z"
    }
   },
   "outputs": [
    {
     "name": "stderr",
     "output_type": "stream",
     "text": [
      "/Users/nickeldime/Code/LLM Class/CS4973/.venv/lib/python3.9/site-packages/tqdm/auto.py:21: TqdmWarning: IProgress not found. Please update jupyter and ipywidgets. See https://ipywidgets.readthedocs.io/en/stable/user_install.html\n",
      "  from .autonotebook import tqdm as notebook_tqdm\n"
     ]
    }
   ],
   "source": [
    "import Homework1"
   ]
  },
  {
   "cell_type": "markdown",
   "id": "c103c1df99daf57",
   "metadata": {},
   "source": [
    "# Task 2"
   ]
  },
  {
   "cell_type": "code",
   "execution_count": 2,
   "id": "20fc0c91",
   "metadata": {
    "ExecuteTime": {
     "end_time": "2024-09-17T23:07:28.465825Z",
     "start_time": "2024-09-17T23:07:27.521703Z"
    }
   },
   "outputs": [
    {
     "data": {
      "application/vnd.jupyter.widget-view+json": {
       "model_id": "1153f03b1a984141ab197f8b852a616e",
       "version_major": 2,
       "version_minor": 0
      },
      "text/plain": [
       "  0%|          | 0/5 [00:00<?, ?it/s]"
      ]
     },
     "metadata": {},
     "output_type": "display_data"
    },
    {
     "data": {
      "text/plain": [
       "[1.0, 1.0, 1.0, 1.0, 1.0]"
      ]
     },
     "execution_count": 2,
     "metadata": {},
     "output_type": "execute_result"
    }
   ],
   "source": [
    "EASY = [\n",
    "    {\n",
    "        \"question\": \"I ate 2 pears and 1 apple. How many fruit did I eat?\",\n",
    "        \"answer\": 3\n",
    "    },\n",
    "    {\n",
    "        \"question\": \"I had ten chocolates but ate one. How many remain?\",\n",
    "        \"answer\": 9\n",
    "    }\n",
    "]\n",
    "\n",
    "Homework1.accuracy_zero_shot(EASY)"
   ]
  },
  {
   "cell_type": "markdown",
   "id": "d2b58a122ca64962",
   "metadata": {},
   "source": [
    "# Task 3"
   ]
  },
  {
   "cell_type": "code",
   "execution_count": 2,
   "id": "6296a6ff",
   "metadata": {
    "ExecuteTime": {
     "end_time": "2024-09-17T23:15:42.353914Z",
     "start_time": "2024-09-17T23:15:40.085005Z"
    }
   },
   "outputs": [
    {
     "name": "stderr",
     "output_type": "stream",
     "text": [
      "/Users/nickeldime/Code/LLM Class/CS4973/.venv/lib/python3.9/site-packages/urllib3/__init__.py:35: NotOpenSSLWarning: urllib3 v2 only supports OpenSSL 1.1.1+, currently the 'ssl' module is compiled with 'LibreSSL 2.8.3'. See: https://github.com/urllib3/urllib3/issues/3020\n",
      "  warnings.warn(\n"
     ]
    }
   ],
   "source": [
    "import datasets\n",
    "\n",
    "TEST = datasets.load_dataset(\"nuprl/llm-systems-math-word-problems\", split=\"test\")"
   ]
  },
  {
   "cell_type": "code",
   "execution_count": 7,
   "id": "9164885c",
   "metadata": {},
   "outputs": [
    {
     "data": {
      "text/plain": [
       "{'question': 'James decides to run 3 sprints 3 times a week.  He runs 60 meters each sprint.  How many total meters does he run a week?',\n",
       " 'answer': 540}"
      ]
     },
     "execution_count": 7,
     "metadata": {},
     "output_type": "execute_result"
    }
   ],
   "source": [
    "TEST[2]"
   ]
  },
  {
   "cell_type": "code",
   "execution_count": 4,
   "id": "a7a8166aa873b0f6",
   "metadata": {
    "ExecuteTime": {
     "end_time": "2024-09-17T23:07:53.581684Z",
     "start_time": "2024-09-17T23:07:30.586801Z"
    }
   },
   "outputs": [
    {
     "data": {
      "application/vnd.jupyter.widget-view+json": {
       "model_id": "ac9da9d951dd4ed0a7ee586726153381",
       "version_major": 2,
       "version_minor": 0
      },
      "text/plain": [
       "  0%|          | 0/5 [00:00<?, ?it/s]"
      ]
     },
     "metadata": {},
     "output_type": "display_data"
    },
    {
     "name": "stdout",
     "output_type": "stream",
     "text": [
      "[0.14, 0.14, 0.18, 0.16, 0.14]\n"
     ]
    }
   ],
   "source": [
    "print(Homework1.accuracy_zero_shot(TEST))"
   ]
  },
  {
   "cell_type": "markdown",
   "id": "8fea2f7e3e0e708a",
   "metadata": {},
   "source": [
    "# Task 4"
   ]
  },
  {
   "cell_type": "code",
   "execution_count": 5,
   "id": "ac642fad",
   "metadata": {
    "ExecuteTime": {
     "end_time": "2024-09-17T23:08:26.485101Z",
     "start_time": "2024-09-17T23:07:53.665324Z"
    }
   },
   "outputs": [
    {
     "data": {
      "application/vnd.jupyter.widget-view+json": {
       "model_id": "a7def01324114013bb4ca5523c0e32cb",
       "version_major": 2,
       "version_minor": 0
      },
      "text/plain": [
       "  0%|          | 0/5 [00:00<?, ?it/s]"
      ]
     },
     "metadata": {},
     "output_type": "display_data"
    },
    {
     "data": {
      "text/plain": [
       "[0.18, 0.16, 0.18, 0.16, 0.18]"
      ]
     },
     "execution_count": 5,
     "metadata": {},
     "output_type": "execute_result"
    }
   ],
   "source": [
    "Homework1.accuracy_few_shot(TEST)"
   ]
  },
  {
   "cell_type": "markdown",
   "id": "94bd16c2c99bdc99",
   "metadata": {},
   "source": [
    "# Task 5"
   ]
  },
  {
   "cell_type": "code",
   "execution_count": 3,
   "id": "4c60de93d57b0f67",
   "metadata": {
    "ExecuteTime": {
     "end_time": "2024-09-17T23:23:00.346147Z",
     "start_time": "2024-09-17T23:15:44.386857Z"
    }
   },
   "outputs": [
    {
     "data": {
      "application/vnd.jupyter.widget-view+json": {
       "model_id": "591c3499c40444c4bee263a6376b1b91",
       "version_major": 2,
       "version_minor": 0
      },
      "text/plain": [
       "  0%|          | 0/5 [00:00<?, ?it/s]"
      ]
     },
     "metadata": {},
     "output_type": "display_data"
    },
    {
     "data": {
      "text/plain": [
       "[0.6, 0.6, 0.6, 0.6, 0.6]"
      ]
     },
     "execution_count": 3,
     "metadata": {},
     "output_type": "execute_result"
    }
   ],
   "source": [
    "Homework1.accuracy_cot(TEST)"
   ]
  },
  {
   "cell_type": "markdown",
   "id": "21a0b0a1",
   "metadata": {},
   "source": [
    "# Task 6"
   ]
  },
  {
   "cell_type": "code",
   "execution_count": 3,
   "id": "76f8756f68c86a0c",
   "metadata": {
    "ExecuteTime": {
     "end_time": "2024-09-17T23:09:53.556839Z",
     "start_time": "2024-09-17T23:09:53.554580Z"
    }
   },
   "outputs": [
    {
     "name": "stderr",
     "output_type": "stream",
     "text": [
      "100%|██████████| 5/5 [05:50<00:00, 70.06s/it]\n"
     ]
    },
    {
     "data": {
      "text/plain": [
       "[0.6, 0.62, 0.62, 0.62, 0.62]"
      ]
     },
     "execution_count": 3,
     "metadata": {},
     "output_type": "execute_result"
    }
   ],
   "source": [
    "Homework1.accuracy_pal(TEST)"
   ]
  }
 ],
 "metadata": {
  "kernelspec": {
   "display_name": "Python 3",
   "language": "python",
   "name": "python3"
  },
  "language_info": {
   "codemirror_mode": {
    "name": "ipython",
    "version": 3
   },
   "file_extension": ".py",
   "mimetype": "text/x-python",
   "name": "python",
   "nbconvert_exporter": "python",
   "pygments_lexer": "ipython3",
   "version": "3.9.6"
  }
 },
 "nbformat": 4,
 "nbformat_minor": 5
}
