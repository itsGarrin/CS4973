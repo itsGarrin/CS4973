{
 "cells": [
  {
   "cell_type": "code",
   "execution_count": 5,
   "metadata": {},
   "outputs": [],
   "source": [
    "%load_ext autoreload\n",
    "%autoreload 2\n",
    "from datasets import load_dataset\n",
    "import utils\n",
    "wikepedia_dataset = load_dataset(\"nuprl/engineering-llm-systems\", name=\"wikipedia-northeastern-university\", split=\"test\")\n",
    "\n"
   ]
  },
  {
   "cell_type": "code",
   "execution_count": 29,
   "metadata": {},
   "outputs": [
    {
     "name": "stdout",
     "output_type": "stream",
     "text": [
      "389\n"
     ]
    }
   ],
   "source": [
    "for i in range(len(wikepedia_dataset)):\n",
    "    if wikepedia_dataset[i][\"title\"] == \"List of Arab Americans\":\n",
    "        print(i)"
   ]
  },
  {
   "cell_type": "code",
   "execution_count": 27,
   "metadata": {},
   "outputs": [
    {
     "name": "stdout",
     "output_type": "stream",
     "text": [
      "{'id': '20127398', 'url': 'https://en.wikipedia.org/wiki/Field%20Ruwe', 'title': 'Field Ruwe', 'text': 'Field Ruwe (born 8 August 1955) is an educator, historian, author, and scholar practitioner currently based in Boston, Massachusetts, U.S. In his native country of Zambia, Dr. Ruwe is known as a radio and television host, and entrepreneur. On March 30, 2016, Ruwe signed a book contract with the Oklahoma-based Tate Publishing and Enterprises, LCC for his novel \"Crown Jewels.\" The deal includes Ruwe\\'s future fiction and nonfiction works.\\n\\nWritings and Education\\nAs well as his radio and television journalism, Ruwe has written for newspapers and has authored books. Using research methods used in journalism, Ruwe has written three novels \"Dyeing of Colors\", \"Alluvial Reflections\", \"Pearly Gates\", and his fourth entitled \"Crown Jewels\" which is due to be published soon. His first novel \"Dyeing of Colors\" was published in 2003. His second novel, \"Alluvial Reflections\", published in 2004, is Ruwe\\'s attempt at thriller. In 2004, Ruwe went on Leave of Absence from Suffolk University to write his third novel \"Pearly Gates\", published in 2007. In the novel, the jury finds Fisha Bayu guilty and sends him to death row.  Ruwe\\'s latest novel \"Crown Jewels\" is a sequel in which Fisha Bayu seeks reparations for colonialism.\\n\\nRuwe holds a doctorate degree in Education from Northeastern University, Boston, Massachusetts. He was trained as a broadcaster by the British Broadcasting Corporation (BBC) and was educated at the New England Institute of Art and Communications, Suffolk University, Boston, Massachusetts, California State University, Fresno, Fresno Pacific University, Fresno, and Northeastern University, Boston, Massachusetts. He earned a Bachelor of Arts Degree in Mass Communication and Journalism with a major in Broadcast Journalism and a Master\\'s Degree in History. He is a member of the Alpha Delta Pi Society and the Phi Alpha Theta an American honor society for undergraduate and graduates students and professors of history. At California State University, Fresno, he was conferred membership in Kappa Tau Alpha\\'s National Honor Society in Journalism and Mass Communication. In 2006, Ruwe became a member of the Golden Key International Honour Society an organisation that recognizes college students solely on the basis of their academic achievements. Well known honorary members include US President Bill Clinton, General Colin Powell, Astronaut John Glenn and Archbishop Desmond Tutu.\\n\\nEarly life\\nRuwe was born in Wusakili Hospital, Kitwe, Zambia, the son of Jeremiah Aaron Ruwe and Rachel Mbizi. He attended Maiteneke Primary School in Chingola. In 1968, he was moved to Chingola Primary School an all-white school. In 1969 he attended high school at Chikola Secondary School, Chingola, and later at Matero Boys\\' Secondary School in Lusaka where he repeated form V. He was a member of the Chikola Debate Club and the Boys\\' Brigade. He sang in the Chiwempala Church Choir and the St. Marks Church Choir.\\n\\nCareer\\nIn 1975, he entered broadcasting as a Program Operator for Zambia Broadcasting Services, recording radio programs. The following year, Ruwe devised a television sketch show called Tiyende Pamodzi Comedy Show, based on the BBC format of The Two Ronnies, a comedy show aired on Television Zambia in the early seventies, featuring the double act of Ronnie Barker and Ronnie Corbett.\\n\\nRuwe\\'s first time to host a radio show was in 1977 when he took over the presentation of \"Sanyo Hit Parade\" from Humphrey Mapoma. Known by the listeners as \"Captain of the Air,\" Ruwe featured an eclectic selection of whatever sort of music struck his fancy. He began to get deluged with mail from listeners who asked him to play their favorite songs. So, Ruwe ventured into commercial radio production, getting sponsorship from various companies around the country.\\n\\nIn 1978, Ruwe resigned from ZBS and later moved to Nairobi, Kenya, where he produced a comedy show on the Voice of Kenya television entitled \"Come What May,\" featuring himself as the disastrous-prone \\'Dafurao.\\' The program was a sketch show crossed with a sitcom. It also included a duo of him and Rashpal Panesar reading a spoof of news. It is believed that Ruwe was the first to introduce locally produced English comedy on the Voice of Kenya. Ruwe also performed radio continuity duties, narrated various scripted programs and compiled/presented \"Jazz Hour\" on the Voice of Kenya.\\n\\nBBC Club\\nRuwe returned to Zambia in 1982. In the same year, he was sponsored by The British Council to study television production at the BBC Open University in Milton Keynes, England and became a member of the BBC Club.\\n\\nPrivate sector\\nUpon completion of the course, he returned home and in 1983 teamed up with Zambia\\'s prolific actress Mathilda Malamamfumu Tutu to form Rutu Advertising Agency. Their immediate hit was \"Secretary of the Year\" contest, which was launched in August 1984. The contest featured top-flight secretaries drawn from different parts of the country and drew interest from the private sector and parastatal organizations including the Bank of Zambia. In 1985, Ruwe and his partner acquired copies of the movie Love Brewed in an African Pot directed by Ghanaian film maker Akwa Ansah which they showed around the country. In the same year, Ruwe wrote his first book, Have A Good Laugh, a compilation of jokes from different parts of the world.\\n\\nIn 1986, Ruwe and Tutu split. Rutu became Rute Advertising (\\'te\\' drawn from his daughter Thembinkosi). Between 1986 and 1990 Ruwe scripted and hosted various radio and television programs which included \"Money Matters\" by the Bank of Zambia, \"The Road\" a production of the National Roads Board and the World Bank, \"Zamseed Radio Program\" by Zambia Seed Company, \"DBZ of the Air\" by the Development Bank of Zambia, and more than twenty companies under the auspices of INDECO group of companies. Television programs included \"The Tourist\" by Zambia National Tourist Board, and various sponsored musicals. During the first Zambia Annual Broadcasting Awards Ceremony, held in Lusaka on 29 December 1989, Ruwe was presented \"The Best Disc Jockey of the Year\" for all radio channels award, thereby being recognized as the best radio DJ in the country.\\n\\nFrom 1990 to 1995, Ruwe operated his own car hire (Rute Car Hire) firm with a fleet of eleven cars and one bus. Ruwe was also known to feature at state functions, dinners and weddings as Master of Ceremonies (ringmaster), often bringing humor and fun to the occasion.\\n\\nCurrent life\\nIn 2006, Ruwe hosted a radio program called The World at Large, on Valley Public Radio, KVPR FM89.3 Fresno and KPRX FM89.1 Bakersfield, California. The program served as a vehicle to share ideas and possible solutions to the myriad of complex issues facing the world of trade. Between June and October 2006, Ruwe interviewed growers, food processors, manufacturers, importers and exporters. Program participants included corporate CEOs, members of Chamber and Commerce, Professors in Agricultural and Business schools, and US government officials in the trade departments.\\n\\nIn 2008, Ruwe, in league with distinguished scholars, Dr. Miles Ishigaki, professor at Fresno State, and Dr. Robert Marquez, scientist and affiliated New Mexico State University professor, created Africa Center (USA) a non-profit, all-inclusive clearinghouse for philanthropists, donors and sympathizers wishing to help African relief efforts and improve the lives of the displaced, impoverished and diseased in many parts of sub-Saharan Africa.\\n\\n2011- Ruwe is the author of \"Hunt for Successor Series\" based on Zambian politics. His article \"Hunt for Successor 8: Zambian Intellectuals are Lazy\" (retitled \\'You Lazy (Intellectual) African Scum!\\' ) went viral. He is the author of the \"Biography of President of Zambia Michael Chilufya Sata.\" Following the death of the president parts of the article were quoted by the New York Times, and Agence France-Presse (AFP).\\n\\nPersonal life\\nDr. Ruwe is married to Dr. Mathilda Bwalya Ruwe a medical doctor and research scientist. He is a father of three children, Thembinkosi, Dalitso (Dr. Dalitso Ruwe) and Rachel, and a grandfather of three, Martin, Zoe and Gabriel.\\n\\nNewspaper articles by Ruwe\\nSanger Herald:\\nIn the line of duty: Sanger born earns purple heart|\\nMichael Montelongo sworn in as mayor|\\nPromoting Sanger to Valley radio listeners|\\nSquaw Valley residents fear private metering|\\nSeventy years and still going strong: Bill and Florine Kyler are part of Sanger’s history|\\nNew equipment for city playgrounds|\\nLower electric bills in your future –City considers options to reduce cost|\\nCombating speeders – Police will get more tools to slow down speeders|\\nCity borrows DBCP funds to buy truck: Previous loans have been repaid|\\n park in Sanger\\'s future: Proposition 84 dollars may be used|\\n\\nOrange Cove and Mountain Times:\\nQuestions, legalities arise over Orange Cove declaring Emergency status of BMX track|\\nPublic works plan bewildering|\\nLocal fire department and city at odds over funds|\\n\\nThe Fowler Ensign:\\nMary-Anne Ward named new postmaster for Fowler Post Office|\\nIn the Spotlight – New church joins Fowler community|\\nIn the Spotlight- Fowler librarian Benjamin Langstraat|\\n\\nThe Reedley Exponent:\\nStreet Faire\\'s 20th Anniversary – First Saturday in May is Reedley tradition|\\nMountain residents question cancelled water meeting|\\nMeasure K – Kings Canyon Unified School District $32 million bond|\\nMeasure E – Sierra Kings District Hospital $20 million bond package|\\n\\nMadera Tribune:\\nNeighbors and Friends – Loving the thrills of fiction writing – Author Bonnie Hearn Hill|\\nThe women\\'s improvement club|\\nThe Flume: Water transportation system helped economic development|\\nWater Battle: Fights over Valley’s resource go back to 1860|\\n\\nTulare Advance- Register:\\nIt\\'s growth vs. preservation|\\n\\nMid-Valley Publishing:\\nCities may seek Ag land for future development\\n\\nReferences\\nThe Historian (2010) Vol. 71 Number 3., p.\\xa0740 Wiley-Blackwell Tampa FL.\\n\\nZambia National Broadcasting Corporation (1990) Profile on Radio 4 by Frank Mutubila\\n\\nNairobi Times (1980) Everyman\\'s Everyman by Margaretta Wagacheru\\n\\nGunda, M. R. & Kugler, J. (2012).The Bible and Politics in Africa (2012) Vol.7 of Bible African Studies. University of Bamberg Press. Pg.170\\n\\nNjamnjoh, H.M. (2013). Bridging Mobilities: ICTs Appropriation by Cameroonians in South Africa and The Netherlands. Langaa RPCIG, pg 201\\n\\nFasua, T. (2011). Crushed!Navigating Africa\\'s Tortuous Quest for Development: Myths and Realities. AuthorHouse\\n\\nRuwe, F. (2010). The History of Technology and Innovation: Development of Radio-broadcasting Technology in Africa: The case of former British Colonies, including the former Portuguese colony of Mozambique. Fresno Pacific University, California, U.S.A.\\n\\nKoloko, L. (2013). Zambian Music Legends. Book-A-Million. Pg 170\\n\\nExternal links\\n\\n Official Website of Field Ruwe\\n https://www.nytimes.com/2014/10/30/world/africa/michael-sata-sharp-tongued-president-of-zambia-dies-at-77.html?_r=0\\n UKZambians category columns: Field Ruwe\\n Lusaka Times Archives: Articles by Field Ruwe\\n Zambian Watchdog Category Archives: Field Ruwe\\n Bulawayo24 News Category Archives: Field Ruwe\\n East African Standard Decolonizing Ngugi wa Thiongo\\'s Mentality\\n The Times of Nigeria Decolonizing Ngugi wa Thiongo\\'s Mentality\\n Scribd.com Biography of Michael Chilufya Sata President of Zambia\\n The New Times:Rwanda\\'s Leading English Daily Big Lesson from Field Ruwe\\'s Article\\n The Zambian Economist Is Zambia Intellectually Blind?\\n Mind of Malaka You Lazy Intellectual African Scum\\n Allafrica.com You Lazy Intellectual African Scum by Field Ruwe\\n African Star News The Walter Attack on African Intelligentsia\\n The Reedley Exponent Improper bidding alleged on Orange Cove BMX park\\n\\n1955 births\\nLiving people\\nZambian novelists\\nAlumni of the Open University\\nZambian journalists\\nPeople from Kitwe\\nSuffolk University alumni\\nCalifornia State University, Fresno alumni\\nFresno Pacific University alumni\\n21st-century novelists\\nZambian television personalities\\nZambian writers\\n21st-century Zambian writers'}\n"
     ]
    }
   ],
   "source": [
    "print(wikepedia_dataset[1092])"
   ]
  },
  {
   "cell_type": "code",
   "execution_count": 8,
   "metadata": {},
   "outputs": [
    {
     "name": "stderr",
     "output_type": "stream",
     "text": [
      "Generating test split: 100%|██████████| 931/931 [00:00<00:00, 179766.92 examples/s]\n",
      "Generating tiny split: 100%|██████████| 50/50 [00:00<00:00, 19919.76 examples/s]\n"
     ]
    }
   ],
   "source": [
    "obscure_questions_dataset = load_dataset(\"nuprl/engineering-llm-systems\", name=\"obscure_questions\", split=\"test\")\n"
   ]
  },
  {
   "cell_type": "code",
   "execution_count": 10,
   "metadata": {},
   "outputs": [],
   "source": [
    "obscure_questions_dataset_tiny = load_dataset(\"nuprl/engineering-llm-systems\", name=\"obscure_questions\", split=\"tiny\")\n",
    "\n"
   ]
  },
  {
   "cell_type": "code",
   "execution_count": 30,
   "metadata": {},
   "outputs": [
    {
     "name": "stdout",
     "output_type": "stream",
     "text": [
      "{'url': 'https://en.wikipedia.org/wiki/Bill%20Thomas%20%28American%20football%29', 'article_id': '20100838', 'prompt': 'Which NFL team drafted William Jeffrey Thomas in the first round of the 1972 NFL Draft?', 'choices': ['A. Kansas City Chiefs', 'B. Dallas Cowboys', 'C. Houston Oilers', 'D. New England Patriots'], 'correct_answer': 'B', 'id': 744}\n"
     ]
    },
    {
     "data": {
      "text/plain": [
       "['A. They were the runner-up',\n",
       " 'B. They won their second consecutive America East Conference Championship',\n",
       " 'C. They qualified for the NCAA Tournament for the first time',\n",
       " 'D. They hosted the tournament for the first time']"
      ]
     },
     "execution_count": 30,
     "metadata": {},
     "output_type": "execute_result"
    }
   ],
   "source": [
    "print(obscure_questions_dataset_tiny[1])\n",
    "obscure_questions_dataset_tiny[0][\"choices\"]"
   ]
  },
  {
   "cell_type": "code",
   "execution_count": 17,
   "metadata": {},
   "outputs": [
    {
     "name": "stdout",
     "output_type": "stream",
     "text": [
      "['significant', 'achievement', 'Northeastern', 'University', 'accomplish', '1982', 'America', 'East', 'Men', 'Basketball', 'Tournament', '?']\n"
     ]
    }
   ],
   "source": [
    "from typing import List\n",
    "import spacy\n",
    "\n",
    "\n",
    "def answer_query(question: str, choices: List[str], documents: List[str]) -> str:\n",
    "    \"\"\"\n",
    "    Answers a multiple choice question using retrieval augmented generation.\n",
    "\n",
    "    `question` is the text of the question. `choices` is the list of choices\n",
    "     with leading letters. For example:\n",
    "\n",
    "     ```\n",
    "     [\"A. Choice 1\", \"B. Choice 2\", \"C. Choice 3\", \"D. Choice 4\"]\n",
    "     ```\n",
    "\n",
    "     `documents` is the list of documents to use for retrieval augmented\n",
    "     generation.\n",
    "\n",
    "     The result should be the just the letter of the correct choice, e.g.,\n",
    "     `\"A\"` but not `\"A.\"` and not `\"A. Choice 1\"`.\n",
    "     \"\"\"\n",
    "    nlp = spacy.load(\"en_core_web_sm\")\n",
    "    doc = nlp(question)\n",
    "    filtered_tokens = [token.text for token in doc if not token.is_stop]\n",
    "\n",
    "    print(filtered_tokens)\n",
    "    \n",
    "answer_query(obscure_questions_dataset_tiny[0][\"prompt\"], obscure_questions_dataset_tiny[0][\"choices\"], wikepedia_dataset)"
   ]
  }
 ],
 "metadata": {
  "kernelspec": {
   "display_name": "venv",
   "language": "python",
   "name": "python3"
  },
  "language_info": {
   "codemirror_mode": {
    "name": "ipython",
    "version": 3
   },
   "file_extension": ".py",
   "mimetype": "text/x-python",
   "name": "python",
   "nbconvert_exporter": "python",
   "pygments_lexer": "ipython3",
   "version": "3.12.6"
  }
 },
 "nbformat": 4,
 "nbformat_minor": 2
}
