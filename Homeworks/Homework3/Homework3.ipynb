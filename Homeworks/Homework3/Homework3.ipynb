{
 "cells": [
  {
   "cell_type": "code",
   "metadata": {
    "ExecuteTime": {
     "end_time": "2024-10-29T14:15:26.743856Z",
     "start_time": "2024-10-29T14:15:21.937201Z"
    }
   },
   "source": [
    "%load_ext autoreload\n",
    "%autoreload 2\n",
    "from datasets import load_dataset\n",
    "\n",
    "import Homework3"
   ],
   "outputs": [],
   "execution_count": 3
  },
  {
   "metadata": {
    "ExecuteTime": {
     "end_time": "2024-10-29T14:15:35.095759Z",
     "start_time": "2024-10-29T14:15:33.570422Z"
    }
   },
   "cell_type": "code",
   "source": [
    "wikipedia_dataset = load_dataset(\"nuprl/engineering-llm-systems\", name=\"wikipedia-northeastern-university\",\n",
    "                                 split=\"test\")"
   ],
   "outputs": [],
   "execution_count": 5
  },
  {
   "cell_type": "code",
   "metadata": {
    "ExecuteTime": {
     "end_time": "2024-10-29T14:09:32.853083Z",
     "start_time": "2024-10-29T14:09:32.728573Z"
    }
   },
   "source": [
    "for i in range(len(wikipedia_dataset)):\n",
    "    if wikipedia_dataset[i][\"title\"] == \"List of Arab Americans\":\n",
    "        print(i)"
   ],
   "outputs": [
    {
     "name": "stdout",
     "output_type": "stream",
     "text": [
      "389\n"
     ]
    }
   ],
   "execution_count": 3
  },
  {
   "cell_type": "code",
   "metadata": {
    "ExecuteTime": {
     "end_time": "2024-10-29T03:26:29.092556Z",
     "start_time": "2024-10-29T03:26:29.072316Z"
    }
   },
   "source": [
    "print(wikipedia_dataset[1092])"
   ],
   "outputs": [
    {
     "name": "stdout",
     "output_type": "stream",
     "text": [
      "{'id': '20127398', 'url': 'https://en.wikipedia.org/wiki/Field%20Ruwe', 'title': 'Field Ruwe', 'text': 'Field Ruwe (born 8 August 1955) is an educator, historian, author, and scholar practitioner currently based in Boston, Massachusetts, U.S. In his native country of Zambia, Dr. Ruwe is known as a radio and television host, and entrepreneur. On March 30, 2016, Ruwe signed a book contract with the Oklahoma-based Tate Publishing and Enterprises, LCC for his novel \"Crown Jewels.\" The deal includes Ruwe\\'s future fiction and nonfiction works.\\n\\nWritings and Education\\nAs well as his radio and television journalism, Ruwe has written for newspapers and has authored books. Using research methods used in journalism, Ruwe has written three novels \"Dyeing of Colors\", \"Alluvial Reflections\", \"Pearly Gates\", and his fourth entitled \"Crown Jewels\" which is due to be published soon. His first novel \"Dyeing of Colors\" was published in 2003. His second novel, \"Alluvial Reflections\", published in 2004, is Ruwe\\'s attempt at thriller. In 2004, Ruwe went on Leave of Absence from Suffolk University to write his third novel \"Pearly Gates\", published in 2007. In the novel, the jury finds Fisha Bayu guilty and sends him to death row.  Ruwe\\'s latest novel \"Crown Jewels\" is a sequel in which Fisha Bayu seeks reparations for colonialism.\\n\\nRuwe holds a doctorate degree in Education from Northeastern University, Boston, Massachusetts. He was trained as a broadcaster by the British Broadcasting Corporation (BBC) and was educated at the New England Institute of Art and Communications, Suffolk University, Boston, Massachusetts, California State University, Fresno, Fresno Pacific University, Fresno, and Northeastern University, Boston, Massachusetts. He earned a Bachelor of Arts Degree in Mass Communication and Journalism with a major in Broadcast Journalism and a Master\\'s Degree in History. He is a member of the Alpha Delta Pi Society and the Phi Alpha Theta an American honor society for undergraduate and graduates students and professors of history. At California State University, Fresno, he was conferred membership in Kappa Tau Alpha\\'s National Honor Society in Journalism and Mass Communication. In 2006, Ruwe became a member of the Golden Key International Honour Society an organisation that recognizes college students solely on the basis of their academic achievements. Well known honorary members include US President Bill Clinton, General Colin Powell, Astronaut John Glenn and Archbishop Desmond Tutu.\\n\\nEarly life\\nRuwe was born in Wusakili Hospital, Kitwe, Zambia, the son of Jeremiah Aaron Ruwe and Rachel Mbizi. He attended Maiteneke Primary School in Chingola. In 1968, he was moved to Chingola Primary School an all-white school. In 1969 he attended high school at Chikola Secondary School, Chingola, and later at Matero Boys\\' Secondary School in Lusaka where he repeated form V. He was a member of the Chikola Debate Club and the Boys\\' Brigade. He sang in the Chiwempala Church Choir and the St. Marks Church Choir.\\n\\nCareer\\nIn 1975, he entered broadcasting as a Program Operator for Zambia Broadcasting Services, recording radio programs. The following year, Ruwe devised a television sketch show called Tiyende Pamodzi Comedy Show, based on the BBC format of The Two Ronnies, a comedy show aired on Television Zambia in the early seventies, featuring the double act of Ronnie Barker and Ronnie Corbett.\\n\\nRuwe\\'s first time to host a radio show was in 1977 when he took over the presentation of \"Sanyo Hit Parade\" from Humphrey Mapoma. Known by the listeners as \"Captain of the Air,\" Ruwe featured an eclectic selection of whatever sort of music struck his fancy. He began to get deluged with mail from listeners who asked him to play their favorite songs. So, Ruwe ventured into commercial radio production, getting sponsorship from various companies around the country.\\n\\nIn 1978, Ruwe resigned from ZBS and later moved to Nairobi, Kenya, where he produced a comedy show on the Voice of Kenya television entitled \"Come What May,\" featuring himself as the disastrous-prone \\'Dafurao.\\' The program was a sketch show crossed with a sitcom. It also included a duo of him and Rashpal Panesar reading a spoof of news. It is believed that Ruwe was the first to introduce locally produced English comedy on the Voice of Kenya. Ruwe also performed radio continuity duties, narrated various scripted programs and compiled/presented \"Jazz Hour\" on the Voice of Kenya.\\n\\nBBC Club\\nRuwe returned to Zambia in 1982. In the same year, he was sponsored by The British Council to study television production at the BBC Open University in Milton Keynes, England and became a member of the BBC Club.\\n\\nPrivate sector\\nUpon completion of the course, he returned home and in 1983 teamed up with Zambia\\'s prolific actress Mathilda Malamamfumu Tutu to form Rutu Advertising Agency. Their immediate hit was \"Secretary of the Year\" contest, which was launched in August 1984. The contest featured top-flight secretaries drawn from different parts of the country and drew interest from the private sector and parastatal organizations including the Bank of Zambia. In 1985, Ruwe and his partner acquired copies of the movie Love Brewed in an African Pot directed by Ghanaian film maker Akwa Ansah which they showed around the country. In the same year, Ruwe wrote his first book, Have A Good Laugh, a compilation of jokes from different parts of the world.\\n\\nIn 1986, Ruwe and Tutu split. Rutu became Rute Advertising (\\'te\\' drawn from his daughter Thembinkosi). Between 1986 and 1990 Ruwe scripted and hosted various radio and television programs which included \"Money Matters\" by the Bank of Zambia, \"The Road\" a production of the National Roads Board and the World Bank, \"Zamseed Radio Program\" by Zambia Seed Company, \"DBZ of the Air\" by the Development Bank of Zambia, and more than twenty companies under the auspices of INDECO group of companies. Television programs included \"The Tourist\" by Zambia National Tourist Board, and various sponsored musicals. During the first Zambia Annual Broadcasting Awards Ceremony, held in Lusaka on 29 December 1989, Ruwe was presented \"The Best Disc Jockey of the Year\" for all radio channels award, thereby being recognized as the best radio DJ in the country.\\n\\nFrom 1990 to 1995, Ruwe operated his own car hire (Rute Car Hire) firm with a fleet of eleven cars and one bus. Ruwe was also known to feature at state functions, dinners and weddings as Master of Ceremonies (ringmaster), often bringing humor and fun to the occasion.\\n\\nCurrent life\\nIn 2006, Ruwe hosted a radio program called The World at Large, on Valley Public Radio, KVPR FM89.3 Fresno and KPRX FM89.1 Bakersfield, California. The program served as a vehicle to share ideas and possible solutions to the myriad of complex issues facing the world of trade. Between June and October 2006, Ruwe interviewed growers, food processors, manufacturers, importers and exporters. Program participants included corporate CEOs, members of Chamber and Commerce, Professors in Agricultural and Business schools, and US government officials in the trade departments.\\n\\nIn 2008, Ruwe, in league with distinguished scholars, Dr. Miles Ishigaki, professor at Fresno State, and Dr. Robert Marquez, scientist and affiliated New Mexico State University professor, created Africa Center (USA) a non-profit, all-inclusive clearinghouse for philanthropists, donors and sympathizers wishing to help African relief efforts and improve the lives of the displaced, impoverished and diseased in many parts of sub-Saharan Africa.\\n\\n2011- Ruwe is the author of \"Hunt for Successor Series\" based on Zambian politics. His article \"Hunt for Successor 8: Zambian Intellectuals are Lazy\" (retitled \\'You Lazy (Intellectual) African Scum!\\' ) went viral. He is the author of the \"Biography of President of Zambia Michael Chilufya Sata.\" Following the death of the president parts of the article were quoted by the New York Times, and Agence France-Presse (AFP).\\n\\nPersonal life\\nDr. Ruwe is married to Dr. Mathilda Bwalya Ruwe a medical doctor and research scientist. He is a father of three children, Thembinkosi, Dalitso (Dr. Dalitso Ruwe) and Rachel, and a grandfather of three, Martin, Zoe and Gabriel.\\n\\nNewspaper articles by Ruwe\\nSanger Herald:\\nIn the line of duty: Sanger born earns purple heart|\\nMichael Montelongo sworn in as mayor|\\nPromoting Sanger to Valley radio listeners|\\nSquaw Valley residents fear private metering|\\nSeventy years and still going strong: Bill and Florine Kyler are part of Sanger’s history|\\nNew equipment for city playgrounds|\\nLower electric bills in your future –City considers options to reduce cost|\\nCombating speeders – Police will get more tools to slow down speeders|\\nCity borrows DBCP funds to buy truck: Previous loans have been repaid|\\n park in Sanger\\'s future: Proposition 84 dollars may be used|\\n\\nOrange Cove and Mountain Times:\\nQuestions, legalities arise over Orange Cove declaring Emergency status of BMX track|\\nPublic works plan bewildering|\\nLocal fire department and city at odds over funds|\\n\\nThe Fowler Ensign:\\nMary-Anne Ward named new postmaster for Fowler Post Office|\\nIn the Spotlight – New church joins Fowler community|\\nIn the Spotlight- Fowler librarian Benjamin Langstraat|\\n\\nThe Reedley Exponent:\\nStreet Faire\\'s 20th Anniversary – First Saturday in May is Reedley tradition|\\nMountain residents question cancelled water meeting|\\nMeasure K – Kings Canyon Unified School District $32 million bond|\\nMeasure E – Sierra Kings District Hospital $20 million bond package|\\n\\nMadera Tribune:\\nNeighbors and Friends – Loving the thrills of fiction writing – Author Bonnie Hearn Hill|\\nThe women\\'s improvement club|\\nThe Flume: Water transportation system helped economic development|\\nWater Battle: Fights over Valley’s resource go back to 1860|\\n\\nTulare Advance- Register:\\nIt\\'s growth vs. preservation|\\n\\nMid-Valley Publishing:\\nCities may seek Ag land for future development\\n\\nReferences\\nThe Historian (2010) Vol. 71 Number 3., p.\\xa0740 Wiley-Blackwell Tampa FL.\\n\\nZambia National Broadcasting Corporation (1990) Profile on Radio 4 by Frank Mutubila\\n\\nNairobi Times (1980) Everyman\\'s Everyman by Margaretta Wagacheru\\n\\nGunda, M. R. & Kugler, J. (2012).The Bible and Politics in Africa (2012) Vol.7 of Bible African Studies. University of Bamberg Press. Pg.170\\n\\nNjamnjoh, H.M. (2013). Bridging Mobilities: ICTs Appropriation by Cameroonians in South Africa and The Netherlands. Langaa RPCIG, pg 201\\n\\nFasua, T. (2011). Crushed!Navigating Africa\\'s Tortuous Quest for Development: Myths and Realities. AuthorHouse\\n\\nRuwe, F. (2010). The History of Technology and Innovation: Development of Radio-broadcasting Technology in Africa: The case of former British Colonies, including the former Portuguese colony of Mozambique. Fresno Pacific University, California, U.S.A.\\n\\nKoloko, L. (2013). Zambian Music Legends. Book-A-Million. Pg 170\\n\\nExternal links\\n\\n Official Website of Field Ruwe\\n https://www.nytimes.com/2014/10/30/world/africa/michael-sata-sharp-tongued-president-of-zambia-dies-at-77.html?_r=0\\n UKZambians category columns: Field Ruwe\\n Lusaka Times Archives: Articles by Field Ruwe\\n Zambian Watchdog Category Archives: Field Ruwe\\n Bulawayo24 News Category Archives: Field Ruwe\\n East African Standard Decolonizing Ngugi wa Thiongo\\'s Mentality\\n The Times of Nigeria Decolonizing Ngugi wa Thiongo\\'s Mentality\\n Scribd.com Biography of Michael Chilufya Sata President of Zambia\\n The New Times:Rwanda\\'s Leading English Daily Big Lesson from Field Ruwe\\'s Article\\n The Zambian Economist Is Zambia Intellectually Blind?\\n Mind of Malaka You Lazy Intellectual African Scum\\n Allafrica.com You Lazy Intellectual African Scum by Field Ruwe\\n African Star News The Walter Attack on African Intelligentsia\\n The Reedley Exponent Improper bidding alleged on Orange Cove BMX park\\n\\n1955 births\\nLiving people\\nZambian novelists\\nAlumni of the Open University\\nZambian journalists\\nPeople from Kitwe\\nSuffolk University alumni\\nCalifornia State University, Fresno alumni\\nFresno Pacific University alumni\\n21st-century novelists\\nZambian television personalities\\nZambian writers\\n21st-century Zambian writers'}\n"
     ]
    }
   ],
   "execution_count": 4
  },
  {
   "cell_type": "code",
   "metadata": {
    "ExecuteTime": {
     "end_time": "2024-10-29T14:15:37.840519Z",
     "start_time": "2024-10-29T14:15:37.072530Z"
    }
   },
   "source": [
    "obscure_questions_dataset = load_dataset(\"nuprl/engineering-llm-systems\", name=\"obscure_questions\", split=\"test\")\n"
   ],
   "outputs": [],
   "execution_count": 6
  },
  {
   "cell_type": "code",
   "metadata": {
    "ExecuteTime": {
     "end_time": "2024-10-29T14:15:38.440171Z",
     "start_time": "2024-10-29T14:15:37.844473Z"
    }
   },
   "source": "obscure_questions_dataset_tiny = load_dataset(\"nuprl/engineering-llm-systems\", name=\"obscure_questions\", split=\"tiny\")",
   "outputs": [],
   "execution_count": 7
  },
  {
   "cell_type": "code",
   "metadata": {
    "ExecuteTime": {
     "end_time": "2024-10-29T03:26:30.581943Z",
     "start_time": "2024-10-29T03:26:30.550520Z"
    }
   },
   "source": [
    "print(obscure_questions_dataset_tiny[1])\n",
    "obscure_questions_dataset_tiny[0][\"choices\"]"
   ],
   "outputs": [
    {
     "name": "stdout",
     "output_type": "stream",
     "text": [
      "{'url': 'https://en.wikipedia.org/wiki/Bill%20Thomas%20%28American%20football%29', 'article_id': '20100838', 'prompt': 'Which NFL team drafted William Jeffrey Thomas in the first round of the 1972 NFL Draft?', 'choices': ['A. Kansas City Chiefs', 'B. Dallas Cowboys', 'C. Houston Oilers', 'D. New England Patriots'], 'correct_answer': 'B', 'id': 744}\n"
     ]
    },
    {
     "data": {
      "text/plain": [
       "['A. They were the runner-up',\n",
       " 'B. They won their second consecutive America East Conference Championship',\n",
       " 'C. They qualified for the NCAA Tournament for the first time',\n",
       " 'D. They hosted the tournament for the first time']"
      ]
     },
     "execution_count": 7,
     "metadata": {},
     "output_type": "execute_result"
    }
   ],
   "execution_count": 7
  },
  {
   "cell_type": "code",
   "metadata": {
    "ExecuteTime": {
     "end_time": "2024-10-29T14:12:08.935654Z",
     "start_time": "2024-10-29T14:10:01.885100Z"
    }
   },
   "source": [
    "Homework3.answer_query(obscure_questions_dataset_tiny[0][\"prompt\"], obscure_questions_dataset_tiny[0][\"choices\"],\n",
    "                       wikipedia_dataset)"
   ],
   "outputs": [
    {
     "name": "stdout",
     "output_type": "stream",
     "text": [
      "Received question: What significant achievement did Northeastern University accomplish in the 1982 America East Men's Basketball Tournament?\n",
      "Received choices: ['A. They were the runner-up', 'B. They won their second consecutive America East Conference Championship', 'C. They qualified for the NCAA Tournament for the first time', 'D. They hosted the tournament for the first time']\n",
      "Total chunks created: 67065\n",
      "Ranked chunks based on TF-IDF\n",
      "Reranked chunks based on BERT similarity\n",
      "Received answer from API: C\n"
     ]
    },
    {
     "data": {
      "text/plain": [
       "'C'"
      ]
     },
     "execution_count": 5,
     "metadata": {},
     "output_type": "execute_result"
    }
   ],
   "execution_count": 5
  },
  {
   "metadata": {
    "ExecuteTime": {
     "end_time": "2024-10-29T14:33:10.424066Z",
     "start_time": "2024-10-29T14:23:55.503504Z"
    }
   },
   "cell_type": "code",
   "source": "Homework3.benchmark_accuracy(obscure_questions_dataset_tiny[\"prompt\"], obscure_questions_dataset_tiny[\"choices\"], wikipedia_dataset, expected_answers=obscure_questions_dataset_tiny[\"correct_answer\"])",
   "outputs": [
    {
     "name": "stderr",
     "output_type": "stream",
     "text": [
      "Benchmarking Accuracy:   0%|          | 0/50 [00:00<?, ?it/s]"
     ]
    },
    {
     "name": "stdout",
     "output_type": "stream",
     "text": [
      "Received question: What significant achievement did Northeastern University accomplish in the 1982 America East Men's Basketball Tournament?\n",
      "Received choices: ['A. They were the runner-up', 'B. They won their second consecutive America East Conference Championship', 'C. They qualified for the NCAA Tournament for the first time', 'D. They hosted the tournament for the first time']\n",
      "Total chunks created: 67065\n",
      "Ranked chunks based on TF-IDF\n"
     ]
    },
    {
     "name": "stderr",
     "output_type": "stream",
     "text": [
      "Benchmarking Accuracy:   2%|▏         | 1/50 [00:09<07:39,  9.38s/it]"
     ]
    },
    {
     "name": "stdout",
     "output_type": "stream",
     "text": [
      "Reranked chunks based on BERT similarity\n",
      "Received answer from API: C\n",
      "Predicted answer for question 1: C\n",
      "Expected answer for question 1: B\n",
      "Received question: Which NFL team drafted William Jeffrey Thomas in the first round of the 1972 NFL Draft?\n",
      "Received choices: ['A. Kansas City Chiefs', 'B. Dallas Cowboys', 'C. Houston Oilers', 'D. New England Patriots']\n",
      "Total chunks created: 67065\n",
      "Ranked chunks based on TF-IDF\n",
      "Reranked chunks based on BERT similarity\n"
     ]
    },
    {
     "name": "stderr",
     "output_type": "stream",
     "text": [
      "Benchmarking Accuracy:   4%|▍         | 2/50 [00:17<06:49,  8.54s/it]"
     ]
    },
    {
     "name": "stdout",
     "output_type": "stream",
     "text": [
      "Received answer from API: C\n",
      "Predicted answer for question 2: C\n",
      "Expected answer for question 2: B\n",
      "Received question: What university awarded Melnea Cass an honorary doctorate on June 15, 1969?\n",
      "Received choices: ['A. Boston College', 'B. Northeastern University', 'C. Simmons College', 'D. Harvard University']\n",
      "Total chunks created: 67065\n",
      "Ranked chunks based on TF-IDF\n",
      "Reranked chunks based on BERT similarity\n"
     ]
    },
    {
     "name": "stderr",
     "output_type": "stream",
     "text": [
      "Benchmarking Accuracy:   6%|▌         | 3/50 [00:24<06:16,  8.00s/it]"
     ]
    },
    {
     "name": "stdout",
     "output_type": "stream",
     "text": [
      "Received answer from API: C\n",
      "Predicted answer for question 3: C\n",
      "Expected answer for question 3: B\n",
      "Received question: What position does Richard Saul Wurman hold at Northeastern University?\n",
      "Received choices: ['A. Adjunct Professor', 'B. Distinguished Professor', 'C. Dean of Architecture', 'D. Chancellor']\n",
      "Total chunks created: 67065\n",
      "Ranked chunks based on TF-IDF\n"
     ]
    },
    {
     "name": "stderr",
     "output_type": "stream",
     "text": [
      "Benchmarking Accuracy:   8%|▊         | 4/50 [00:32<06:08,  8.00s/it]"
     ]
    },
    {
     "name": "stdout",
     "output_type": "stream",
     "text": [
      "Reranked chunks based on BERT similarity\n",
      "Received answer from API: A\n",
      "Predicted answer for question 4: A\n",
      "Expected answer for question 4: B\n",
      "Received question: In which field does Northeastern University offer a Master of Professional Studies?\n",
      "Received choices: ['A. Fashion Merchandising', 'B. Digital Media', 'C. Applied Industrial-Organizational Psychology', 'D. Environmental Studies']\n",
      "Total chunks created: 67065\n",
      "Ranked chunks based on TF-IDF\n"
     ]
    },
    {
     "name": "stderr",
     "output_type": "stream",
     "text": [
      "Benchmarking Accuracy:  10%|█         | 5/50 [00:39<05:46,  7.70s/it]"
     ]
    },
    {
     "name": "stdout",
     "output_type": "stream",
     "text": [
      "Reranked chunks based on BERT similarity\n",
      "Received answer from API: C\n",
      "Predicted answer for question 5: C\n",
      "Expected answer for question 5: B\n",
      "Received question: What position did Jane Fernandes hold at Northeastern University?\n",
      "Received choices: ['A. Provost', 'B. Dean of Students', 'C. Coordinator of American Sign Language and Interpreting Programs', 'D. President']\n",
      "Total chunks created: 67065\n",
      "Ranked chunks based on TF-IDF\n"
     ]
    },
    {
     "name": "stderr",
     "output_type": "stream",
     "text": [
      "Benchmarking Accuracy:  12%|█▏        | 6/50 [00:46<05:24,  7.36s/it]"
     ]
    },
    {
     "name": "stdout",
     "output_type": "stream",
     "text": [
      "Reranked chunks based on BERT similarity\n",
      "Received answer from API: D\n",
      "Predicted answer for question 6: D\n",
      "Expected answer for question 6: C\n",
      "Received question: Which university did Robert Epstein earn his Ph.D. from?\n",
      "Received choices: ['A. Boston University', 'B. Harvard University', 'C. University of California, San Diego', 'D. Northeastern University']\n",
      "Total chunks created: 67065\n",
      "Ranked chunks based on TF-IDF\n",
      "Reranked chunks based on BERT similarity\n"
     ]
    },
    {
     "name": "stderr",
     "output_type": "stream",
     "text": [
      "Benchmarking Accuracy:  14%|█▍        | 7/50 [00:53<05:13,  7.29s/it]"
     ]
    },
    {
     "name": "stdout",
     "output_type": "stream",
     "text": [
      "Received answer from API: C\n",
      "Predicted answer for question 7: C\n",
      "Expected answer for question 7: B\n",
      "Received question: In what year was 'Pietro Mascagni and His Operas' published?\n",
      "Received choices: ['A. 1905', 'B. 2002', 'C. 1996', 'D. 2008']\n",
      "Total chunks created: 67065\n",
      "Ranked chunks based on TF-IDF\n"
     ]
    },
    {
     "name": "stderr",
     "output_type": "stream",
     "text": [
      "Benchmarking Accuracy:  16%|█▌        | 8/50 [01:00<05:00,  7.16s/it]"
     ]
    },
    {
     "name": "stdout",
     "output_type": "stream",
     "text": [
      "Reranked chunks based on BERT similarity\n",
      "Received answer from API: A\n",
      "Predicted answer for question 8: A\n",
      "Expected answer for question 8: B\n",
      "Received question: What is the official flower of the National Society of Pershing Rifles?\n",
      "Received choices: ['A. Red Rose', 'B. Bluebell', 'C. White Rose', 'D. Lily']\n",
      "Total chunks created: 67065\n",
      "Ranked chunks based on TF-IDF\n",
      "Reranked chunks based on BERT similarity\n",
      "Received answer from API: A\n",
      "Predicted answer for question 9: A\n",
      "Expected answer for question 9: C\n"
     ]
    },
    {
     "name": "stderr",
     "output_type": "stream",
     "text": [
      "Benchmarking Accuracy:  18%|█▊        | 9/50 [01:09<05:13,  7.66s/it]"
     ]
    },
    {
     "name": "stdout",
     "output_type": "stream",
     "text": [
      "Received question: In what year did Northeastern University acquire Horticultural Hall?\n",
      "Received choices: ['A. 1992', 'B. 2001', 'C. 2020', 'D. 1984']\n",
      "Total chunks created: 67065\n",
      "Ranked chunks based on TF-IDF\n"
     ]
    },
    {
     "name": "stderr",
     "output_type": "stream",
     "text": [
      "Benchmarking Accuracy:  20%|██        | 10/50 [01:17<05:14,  7.87s/it]"
     ]
    },
    {
     "name": "stdout",
     "output_type": "stream",
     "text": [
      "Reranked chunks based on BERT similarity\n",
      "Received answer from API: D\n",
      "Predicted answer for question 10: D\n",
      "Expected answer for question 10: C\n",
      "Received question: What is located near Kevin W. Fitzgerald Park?\n",
      "Received choices: ['A. Northeastern University', 'B. Boston Common', 'C. Harvard University', 'D. Fenway Park']\n",
      "Total chunks created: 67065\n",
      "Ranked chunks based on TF-IDF\n",
      "Reranked chunks based on BERT similarity\n"
     ]
    },
    {
     "name": "stderr",
     "output_type": "stream",
     "text": [
      "Benchmarking Accuracy:  22%|██▏       | 11/50 [01:25<05:11,  7.98s/it]"
     ]
    },
    {
     "name": "stdout",
     "output_type": "stream",
     "text": [
      "Received answer from API: A\n",
      "Predicted answer for question 11: A\n",
      "Expected answer for question 11: A\n",
      "Received question: What position did Bill Berglund play in ice hockey?\n",
      "Received choices: ['A. Forward', 'B. Defenseman', 'C. Goaltender', 'D. Coach']\n",
      "Total chunks created: 67065\n",
      "Ranked chunks based on TF-IDF\n",
      "Reranked chunks based on BERT similarity\n"
     ]
    },
    {
     "name": "stderr",
     "output_type": "stream",
     "text": [
      "Benchmarking Accuracy:  24%|██▍       | 12/50 [01:33<04:54,  7.75s/it]"
     ]
    },
    {
     "name": "stdout",
     "output_type": "stream",
     "text": [
      "Received answer from API: A\n",
      "Predicted answer for question 12: A\n",
      "Expected answer for question 12: C\n",
      "Received question: What degree did Robert DeLeo earn from Northeastern University?\n",
      "Received choices: ['A. Bachelor of Science', 'B. Bachelor of Arts', 'C. Master of Arts', 'D. Juris Doctor']\n",
      "Total chunks created: 67065\n",
      "Ranked chunks based on TF-IDF\n"
     ]
    },
    {
     "name": "stderr",
     "output_type": "stream",
     "text": [
      "Benchmarking Accuracy:  26%|██▌       | 13/50 [01:40<04:38,  7.53s/it]"
     ]
    },
    {
     "name": "stdout",
     "output_type": "stream",
     "text": [
      "Reranked chunks based on BERT similarity\n",
      "Received answer from API: A\n",
      "Predicted answer for question 13: A\n",
      "Expected answer for question 13: B\n",
      "Received question: Which university published Ian MacDonald's book 'The New Shostakovich'?\n",
      "Received choices: ['A. Harvard University Press', 'B. Northeastern University Press', 'C. Yale University Press', 'D. Columbia University Press']\n",
      "Total chunks created: 67065\n",
      "Ranked chunks based on TF-IDF\n"
     ]
    },
    {
     "name": "stderr",
     "output_type": "stream",
     "text": [
      "Benchmarking Accuracy:  28%|██▊       | 14/50 [01:47<04:28,  7.47s/it]"
     ]
    },
    {
     "name": "stdout",
     "output_type": "stream",
     "text": [
      "Reranked chunks based on BERT similarity\n",
      "Received answer from API: B\n",
      "Predicted answer for question 14: B\n",
      "Expected answer for question 14: B\n",
      "Received question: In which season did Jon Awe lead Northeastern University defensemen in points?\n",
      "Received choices: ['A. 2001-02', 'B. 2002-03', 'C. 2003-04', 'D. 2004-05']\n",
      "Total chunks created: 67065\n",
      "Ranked chunks based on TF-IDF\n"
     ]
    },
    {
     "name": "stderr",
     "output_type": "stream",
     "text": [
      "Benchmarking Accuracy:  30%|███       | 15/50 [01:54<04:20,  7.44s/it]"
     ]
    },
    {
     "name": "stdout",
     "output_type": "stream",
     "text": [
      "Reranked chunks based on BERT similarity\n",
      "Received answer from API: A\n",
      "Predicted answer for question 15: A\n",
      "Expected answer for question 15: C\n",
      "Received question: Which university did David Ferriero work for as University Librarian and Vice Provost for Library Affairs before joining the New York Public Library?\n",
      "Received choices: ['A. Harvard University', 'B. Duke University', 'C. Stanford University', 'D. Massachusetts Institute of Technology']\n",
      "Total chunks created: 67065\n",
      "Ranked chunks based on TF-IDF\n",
      "Reranked chunks based on BERT similarity\n"
     ]
    },
    {
     "name": "stderr",
     "output_type": "stream",
     "text": [
      "Benchmarking Accuracy:  32%|███▏      | 16/50 [02:03<04:22,  7.72s/it]"
     ]
    },
    {
     "name": "stdout",
     "output_type": "stream",
     "text": [
      "Received answer from API: B\n",
      "Predicted answer for question 16: B\n",
      "Expected answer for question 16: B\n",
      "Received question: What degree did Lewis Robert Porter earn from Northeastern University?\n",
      "Received choices: ['A. Bachelor of Arts in Psychology', 'B. Master of Education in Counseling', 'C. Ph.D. in Musicology', 'D. Master of Music in Jazz Studies']\n",
      "Total chunks created: 67065\n",
      "Ranked chunks based on TF-IDF\n",
      "Reranked chunks based on BERT similarity\n"
     ]
    },
    {
     "name": "stderr",
     "output_type": "stream",
     "text": [
      "Benchmarking Accuracy:  34%|███▍      | 17/50 [02:11<04:22,  7.96s/it]"
     ]
    },
    {
     "name": "stdout",
     "output_type": "stream",
     "text": [
      "Received answer from API: A\n",
      "Predicted answer for question 17: A\n",
      "Expected answer for question 17: B\n",
      "Received question: Who was the first agent of the New England Society for the Suppression of Vice hired in 1882?\n",
      "Received choices: ['A. Frederick Baylies Allen', 'B. Anthony Comstock', 'C. Henry Chase', 'D. Dwight Spaulding Strong']\n",
      "Total chunks created: 67065\n",
      "Ranked chunks based on TF-IDF\n",
      "Reranked chunks based on BERT similarity\n"
     ]
    },
    {
     "name": "stderr",
     "output_type": "stream",
     "text": [
      "Benchmarking Accuracy:  36%|███▌      | 18/50 [02:19<04:11,  7.86s/it]"
     ]
    },
    {
     "name": "stdout",
     "output_type": "stream",
     "text": [
      "Received answer from API: B\n",
      "Predicted answer for question 18: B\n",
      "Expected answer for question 18: C\n",
      "Received question: Who conducted the United States premiere of 'Armida' in Tulsa, Oklahoma?\n",
      "Received choices: ['A. Richard Bradshaw', 'B. Tullio Serafin', 'C. Daniele Gatti', 'D. Gianfranco Masini']\n",
      "Total chunks created: 67065\n",
      "Ranked chunks based on TF-IDF\n"
     ]
    },
    {
     "name": "stderr",
     "output_type": "stream",
     "text": [
      "Benchmarking Accuracy:  38%|███▊      | 19/50 [02:26<03:58,  7.68s/it]"
     ]
    },
    {
     "name": "stdout",
     "output_type": "stream",
     "text": [
      "Reranked chunks based on BERT similarity\n",
      "Received answer from API: A\n",
      "Predicted answer for question 19: A\n",
      "Expected answer for question 19: A\n",
      "Received question: In what year was the Charles J. Ogletree Jr. Chair in Race and Criminal Justice established at Harvard Law School?\n",
      "Received choices: ['A. 2010', 'B. 2015', 'C. 2017', 'D. 2020']\n",
      "Total chunks created: 67065\n",
      "Ranked chunks based on TF-IDF\n",
      "Reranked chunks based on BERT similarity\n"
     ]
    },
    {
     "name": "stderr",
     "output_type": "stream",
     "text": [
      "Benchmarking Accuracy:  40%|████      | 20/50 [02:34<03:52,  7.73s/it]"
     ]
    },
    {
     "name": "stdout",
     "output_type": "stream",
     "text": [
      "Received answer from API: A\n",
      "Predicted answer for question 20: A\n",
      "Expected answer for question 20: C\n",
      "Received question: In which year was Roger Sessions awarded the Edward MacDowell Medal?\n",
      "Received choices: ['A. 1968', 'B. 1974', 'C. 1982', 'D. 1985']\n",
      "Total chunks created: 67065\n",
      "Ranked chunks based on TF-IDF\n",
      "Reranked chunks based on BERT similarity\n"
     ]
    },
    {
     "name": "stderr",
     "output_type": "stream",
     "text": [
      "Benchmarking Accuracy:  42%|████▏     | 21/50 [02:42<03:43,  7.70s/it]"
     ]
    },
    {
     "name": "stdout",
     "output_type": "stream",
     "text": [
      "Received answer from API: A\n",
      "Predicted answer for question 21: A\n",
      "Expected answer for question 21: A\n",
      "Received question: During which years did Asa Smallidge Knowles serve as President of Northeastern University?\n",
      "Received choices: ['A. 1959 to 1975', 'B. 1946 to 1948', 'C. 1965 to 1980', 'D. 1975 to 1985']\n",
      "Total chunks created: 67065\n",
      "Ranked chunks based on TF-IDF\n",
      "Reranked chunks based on BERT similarity\n"
     ]
    },
    {
     "name": "stderr",
     "output_type": "stream",
     "text": [
      "Benchmarking Accuracy:  44%|████▍     | 22/50 [02:50<03:38,  7.82s/it]"
     ]
    },
    {
     "name": "stdout",
     "output_type": "stream",
     "text": [
      "Received answer from API: A\n",
      "Predicted answer for question 22: A\n",
      "Expected answer for question 22: A\n",
      "Received question: Where did Jane Fernandes serve as the president before joining Antioch College?\n",
      "Received choices: ['A. Gallaudet University', 'B. Guilford College', 'C. Northeastern University', 'D. Hawaii School for the Deaf and Blind']\n",
      "Total chunks created: 67065\n",
      "Ranked chunks based on TF-IDF\n",
      "Reranked chunks based on BERT similarity\n"
     ]
    },
    {
     "name": "stderr",
     "output_type": "stream",
     "text": [
      "Benchmarking Accuracy:  46%|████▌     | 23/50 [02:59<03:41,  8.20s/it]"
     ]
    },
    {
     "name": "stdout",
     "output_type": "stream",
     "text": [
      "Received answer from API: A\n",
      "Predicted answer for question 23: A\n",
      "Expected answer for question 23: B\n",
      "Received question: What year was Napster developed by Shawn Fanning?\n",
      "Received choices: ['A. 1997', 'B. 1998', 'C. 1999', 'D. 2000']\n",
      "Total chunks created: 67065\n",
      "Ranked chunks based on TF-IDF\n",
      "Reranked chunks based on BERT similarity\n",
      "Received answer from API: B\n"
     ]
    },
    {
     "name": "stderr",
     "output_type": "stream",
     "text": [
      "Benchmarking Accuracy:  48%|████▊     | 24/50 [03:08<03:41,  8.53s/it]"
     ]
    },
    {
     "name": "stdout",
     "output_type": "stream",
     "text": [
      "Predicted answer for question 24: B\n",
      "Expected answer for question 24: C\n",
      "Received question: Which university published a book related to the White House restoration?\n",
      "Received choices: ['A. Harvard University Press', 'B. Yale University Press', 'C. Northeastern University Press', 'D. Stanford University Press']\n",
      "Total chunks created: 67065\n",
      "Ranked chunks based on TF-IDF\n",
      "Reranked chunks based on BERT similarity\n",
      "Received answer from API: C\n",
      "Predicted answer for question 25: C\n",
      "Expected answer for question 25: C\n"
     ]
    },
    {
     "name": "stderr",
     "output_type": "stream",
     "text": [
      "Benchmarking Accuracy:  50%|█████     | 25/50 [03:17<03:36,  8.66s/it]"
     ]
    },
    {
     "name": "stdout",
     "output_type": "stream",
     "text": [
      "Received question: What type of military installations were located at East Point during World War II?\n",
      "Received choices: ['A. Air Force bases', 'B. Coast artillery batteries', 'C. Naval shipyards', 'D. Army training camps']\n",
      "Total chunks created: 67065\n",
      "Ranked chunks based on TF-IDF\n"
     ]
    },
    {
     "name": "stderr",
     "output_type": "stream",
     "text": [
      "Benchmarking Accuracy:  52%|█████▏    | 26/50 [03:26<03:32,  8.87s/it]"
     ]
    },
    {
     "name": "stdout",
     "output_type": "stream",
     "text": [
      "Reranked chunks based on BERT similarity\n",
      "Received answer from API: B\n",
      "Predicted answer for question 26: B\n",
      "Expected answer for question 26: B\n",
      "Received question: What university is Elizabeth 'Lisa' Hernandez an alumna of?\n",
      "Received choices: ['A. University of Illinois', 'B. Northeastern University', 'C. Northwestern University', 'D. DePaul University']\n",
      "Total chunks created: 67065\n",
      "Ranked chunks based on TF-IDF\n",
      "Reranked chunks based on BERT similarity\n"
     ]
    },
    {
     "name": "stderr",
     "output_type": "stream",
     "text": [
      "Benchmarking Accuracy:  54%|█████▍    | 27/50 [03:37<03:38,  9.52s/it]"
     ]
    },
    {
     "name": "stdout",
     "output_type": "stream",
     "text": [
      "Received answer from API: B\n",
      "Predicted answer for question 27: B\n",
      "Expected answer for question 27: B\n",
      "Received question: In which year did Edward Joseph Cronin begin serving as Secretary of the Commonwealth of Massachusetts?\n",
      "Received choices: ['A. 1945', 'B. 1949', 'C. 1952', 'D. 1955']\n",
      "Total chunks created: 67065\n",
      "Ranked chunks based on TF-IDF\n",
      "Reranked chunks based on BERT similarity\n",
      "Received answer from API: B\n",
      "Predicted answer for question 28: B\n",
      "Expected answer for question 28: B\n"
     ]
    },
    {
     "name": "stderr",
     "output_type": "stream",
     "text": [
      "Benchmarking Accuracy:  56%|█████▌    | 28/50 [03:54<04:14, 11.57s/it]"
     ]
    },
    {
     "name": "stdout",
     "output_type": "stream",
     "text": [
      "Received question: In what year did Thornton Waldo Burgess die?\n",
      "Received choices: ['A. 1960', 'B. 1965', 'C. 1970', 'D. 1980']\n",
      "Total chunks created: 67065\n",
      "Ranked chunks based on TF-IDF\n",
      "Reranked chunks based on BERT similarity\n",
      "Received answer from API: B\n"
     ]
    },
    {
     "name": "stderr",
     "output_type": "stream",
     "text": [
      "Benchmarking Accuracy:  58%|█████▊    | 29/50 [04:10<04:32, 12.96s/it]"
     ]
    },
    {
     "name": "stdout",
     "output_type": "stream",
     "text": [
      "Predicted answer for question 29: B\n",
      "Expected answer for question 29: B\n",
      "Received question: In which district does Elizabeth 'Lisa' Hernandez serve?\n",
      "Received choices: ['A. 1st District', 'B. 24th District', 'C. 10th District', 'D. 5th District']\n",
      "Total chunks created: 67065\n",
      "Ranked chunks based on TF-IDF\n",
      "Reranked chunks based on BERT similarity\n",
      "Received answer from API: B\n",
      "Predicted answer for question 30: B\n",
      "Expected answer for question 30: B\n"
     ]
    },
    {
     "name": "stderr",
     "output_type": "stream",
     "text": [
      "Benchmarking Accuracy:  60%|██████    | 30/50 [04:26<04:35, 13.75s/it]"
     ]
    },
    {
     "name": "stdout",
     "output_type": "stream",
     "text": [
      "Received question: What major renovation for accessibility at the Museum of Fine Arts station was completed in 2003?\n",
      "Received choices: ['A. Installation of escalators', 'B. Lengthening and repaving of platforms', 'C. Construction of a new entrance', 'D. Expansion of bus connections']\n",
      "Total chunks created: 67065\n",
      "Ranked chunks based on TF-IDF\n"
     ]
    },
    {
     "name": "stderr",
     "output_type": "stream",
     "text": [
      "Benchmarking Accuracy:  62%|██████▏   | 31/50 [04:39<04:18, 13.60s/it]"
     ]
    },
    {
     "name": "stdout",
     "output_type": "stream",
     "text": [
      "Reranked chunks based on BERT similarity\n",
      "Received answer from API: B\n",
      "Predicted answer for question 31: B\n",
      "Expected answer for question 31: B\n",
      "Received question: What type of award does The Journal of Media Economics give biannually to recognize scholars?\n",
      "Received choices: ['A. Best Paper Award', 'B. Award of Honor', 'C. Outstanding Research Award', 'D. Excellence in Media Award']\n",
      "Total chunks created: 67065\n",
      "Ranked chunks based on TF-IDF\n",
      "Reranked chunks based on BERT similarity\n"
     ]
    },
    {
     "name": "stderr",
     "output_type": "stream",
     "text": [
      "Benchmarking Accuracy:  64%|██████▍   | 32/50 [04:55<04:16, 14.23s/it]"
     ]
    },
    {
     "name": "stdout",
     "output_type": "stream",
     "text": [
      "Received answer from API: A\n",
      "Predicted answer for question 32: A\n",
      "Expected answer for question 32: B\n",
      "Received question: Which university did Howard Frazin teach at along with the New England Conservatory and Roxbury Latin School?\n",
      "Received choices: ['A. Harvard University', 'B. Northeastern University', 'C. Boston University', 'D. Berklee College of Music']\n",
      "Total chunks created: 67065\n",
      "Ranked chunks based on TF-IDF\n",
      "Reranked chunks based on BERT similarity\n"
     ]
    },
    {
     "name": "stderr",
     "output_type": "stream",
     "text": [
      "Benchmarking Accuracy:  66%|██████▌   | 33/50 [05:18<04:51, 17.13s/it]"
     ]
    },
    {
     "name": "stdout",
     "output_type": "stream",
     "text": [
      "Received answer from API: A\n",
      "Predicted answer for question 33: A\n",
      "Expected answer for question 33: B\n",
      "Received question: In what year was Napster founded?\n",
      "Received choices: ['A. 1997', 'B. 1998', 'C. 1999', 'D. 2000']\n",
      "Total chunks created: 67065\n",
      "Ranked chunks based on TF-IDF\n"
     ]
    },
    {
     "name": "stderr",
     "output_type": "stream",
     "text": [
      "Benchmarking Accuracy:  68%|██████▊   | 34/50 [05:32<04:15, 15.99s/it]"
     ]
    },
    {
     "name": "stdout",
     "output_type": "stream",
     "text": [
      "Reranked chunks based on BERT similarity\n",
      "Received answer from API: B\n",
      "Predicted answer for question 34: B\n",
      "Expected answer for question 34: C\n",
      "Received question: What university did Samuel Simon Krafsur attend for a year?\n",
      "Received choices: ['A. Harvard University', 'B. Northeastern University', 'C. Boston University', 'D. University of Massachusetts']\n",
      "Total chunks created: 67065\n",
      "Ranked chunks based on TF-IDF\n",
      "Reranked chunks based on BERT similarity\n",
      "Received answer from API: A\n",
      "Predicted answer for question 35: A\n",
      "Expected answer for question 35: B\n"
     ]
    },
    {
     "name": "stderr",
     "output_type": "stream",
     "text": [
      "Benchmarking Accuracy:  70%|███████   | 35/50 [05:44<03:44, 15.00s/it]"
     ]
    },
    {
     "name": "stdout",
     "output_type": "stream",
     "text": [
      "Received question: What university did Ralph Burton Rogers attend?\n",
      "Received choices: ['A. Harvard University', 'B. Boston University', 'C. Northeastern University', 'D. Massachusetts Institute of Technology']\n",
      "Total chunks created: 67065\n",
      "Ranked chunks based on TF-IDF\n",
      "Reranked chunks based on BERT similarity\n"
     ]
    },
    {
     "name": "stderr",
     "output_type": "stream",
     "text": [
      "Benchmarking Accuracy:  72%|███████▏  | 36/50 [05:57<03:17, 14.13s/it]"
     ]
    },
    {
     "name": "stdout",
     "output_type": "stream",
     "text": [
      "Received answer from API: A\n",
      "Predicted answer for question 36: A\n",
      "Expected answer for question 36: C\n",
      "Received question: What degree did Theodore C. Speliotis earn from Northeastern University?\n",
      "Received choices: [\"A. Master's in Education\", \"B. Bachelor's in Political Science\", \"C. Bachelor's in Sociology\", \"D. Master's in Political Science\"]\n",
      "Total chunks created: 67065\n",
      "Ranked chunks based on TF-IDF\n"
     ]
    },
    {
     "name": "stderr",
     "output_type": "stream",
     "text": [
      "Benchmarking Accuracy:  74%|███████▍  | 37/50 [06:09<02:55, 13.48s/it]"
     ]
    },
    {
     "name": "stdout",
     "output_type": "stream",
     "text": [
      "Reranked chunks based on BERT similarity\n",
      "Received answer from API: A\n",
      "Predicted answer for question 37: A\n",
      "Expected answer for question 37: B\n",
      "Received question: Where did Diana Lemieux graduate from?\n",
      "Received choices: ['A. Harvard University', 'B. Northeastern University', 'C. Boston University', 'D. Massachusetts Institute of Technology']\n",
      "Total chunks created: 67065\n",
      "Ranked chunks based on TF-IDF\n"
     ]
    },
    {
     "name": "stderr",
     "output_type": "stream",
     "text": [
      "Benchmarking Accuracy:  76%|███████▌  | 38/50 [06:20<02:35, 12.98s/it]"
     ]
    },
    {
     "name": "stdout",
     "output_type": "stream",
     "text": [
      "Reranked chunks based on BERT similarity\n",
      "Received answer from API: B\n",
      "Predicted answer for question 38: B\n",
      "Expected answer for question 38: B\n",
      "Received question: In which year was Tim Cresswell born?\n",
      "Received choices: ['A. 1960', 'B. 1965', 'C. 1970', 'D. 1980']\n",
      "Total chunks created: 67065\n",
      "Ranked chunks based on TF-IDF\n"
     ]
    },
    {
     "name": "stderr",
     "output_type": "stream",
     "text": [
      "Benchmarking Accuracy:  78%|███████▊  | 39/50 [06:34<02:26, 13.30s/it]"
     ]
    },
    {
     "name": "stdout",
     "output_type": "stream",
     "text": [
      "Reranked chunks based on BERT similarity\n",
      "Received answer from API: A\n",
      "Predicted answer for question 39: A\n",
      "Expected answer for question 39: B\n",
      "Received question: Which university's team created the Golden Tire Award for the Chem-E-Car Competition?\n",
      "Received choices: ['A. Virginia Tech', 'B. Cornell University', 'C. Northeastern University', 'D. Georgia Institute of Technology']\n",
      "Total chunks created: 67065\n",
      "Ranked chunks based on TF-IDF\n",
      "Reranked chunks based on BERT similarity\n"
     ]
    },
    {
     "name": "stderr",
     "output_type": "stream",
     "text": [
      "Benchmarking Accuracy:  80%|████████  | 40/50 [06:50<02:20, 14.06s/it]"
     ]
    },
    {
     "name": "stdout",
     "output_type": "stream",
     "text": [
      "Received answer from API: A\n",
      "Predicted answer for question 40: A\n",
      "Expected answer for question 40: C\n",
      "Received question: Which of the following companies collaborated with Northeastern University in the development of RF MEMS switches?\n",
      "Received choices: ['A. IBM', 'B. Intel', 'C. Texas Instruments', 'D. Google']\n",
      "Total chunks created: 67065\n",
      "Ranked chunks based on TF-IDF\n",
      "Reranked chunks based on BERT similarity\n"
     ]
    },
    {
     "name": "stderr",
     "output_type": "stream",
     "text": [
      "Benchmarking Accuracy:  82%|████████▏ | 41/50 [07:03<02:03, 13.72s/it]"
     ]
    },
    {
     "name": "stdout",
     "output_type": "stream",
     "text": [
      "Received answer from API: A\n",
      "Predicted answer for question 41: A\n",
      "Expected answer for question 41: A\n",
      "Received question: In what year was Cy Young elected to the National Baseball Hall of Fame?\n",
      "Received choices: ['A. 1935', 'B. 1937', 'C. 1940', 'D. 1956']\n",
      "Total chunks created: 67065\n",
      "Ranked chunks based on TF-IDF\n",
      "Reranked chunks based on BERT similarity\n",
      "Received answer from API: A\n",
      "Predicted answer for question 42: A\n",
      "Expected answer for question 42: B\n"
     ]
    },
    {
     "name": "stderr",
     "output_type": "stream",
     "text": [
      "Benchmarking Accuracy:  84%|████████▍ | 42/50 [07:18<01:53, 14.16s/it]"
     ]
    },
    {
     "name": "stdout",
     "output_type": "stream",
     "text": [
      "Received question: Which university's center was one of the initial tenants of the ESPN Wide World of Sports Complex?\n",
      "Received choices: ['A. Harvard University', 'B. Northeastern University', 'C. University of Florida', 'D. University of Central Florida']\n",
      "Total chunks created: 67065\n",
      "Ranked chunks based on TF-IDF\n",
      "Reranked chunks based on BERT similarity\n"
     ]
    },
    {
     "name": "stderr",
     "output_type": "stream",
     "text": [
      "Benchmarking Accuracy:  86%|████████▌ | 43/50 [07:35<01:43, 14.82s/it]"
     ]
    },
    {
     "name": "stdout",
     "output_type": "stream",
     "text": [
      "Received answer from API: D\n",
      "Predicted answer for question 43: D\n",
      "Expected answer for question 43: B\n",
      "Received question: Which degree did Richard Middleton Freeland earn from Amherst College?\n",
      "Received choices: ['A. Doctorate in American Civilization', \"B. Bachelor's degree in American Studies\", \"C. Master's degree in Education\", \"D. Bachelor's degree in Arts and Sciences\"]\n",
      "Total chunks created: 67065\n",
      "Ranked chunks based on TF-IDF\n",
      "Reranked chunks based on BERT similarity\n",
      "Received answer from API: A\n"
     ]
    },
    {
     "name": "stderr",
     "output_type": "stream",
     "text": [
      "Benchmarking Accuracy:  88%|████████▊ | 44/50 [07:50<01:30, 15.06s/it]"
     ]
    },
    {
     "name": "stdout",
     "output_type": "stream",
     "text": [
      "Predicted answer for question 44: A\n",
      "Expected answer for question 44: B\n",
      "Received question: Which university did Lizhen Ji attend for his doctoral studies?\n",
      "Received choices: ['A. University of California, San Diego', 'B. Massachusetts Institute of Technology', 'C. Northeastern University', 'D. Zhejiang University']\n",
      "Total chunks created: 67065\n",
      "Ranked chunks based on TF-IDF\n"
     ]
    },
    {
     "name": "stderr",
     "output_type": "stream",
     "text": [
      "Benchmarking Accuracy:  90%|█████████ | 45/50 [08:04<01:13, 14.65s/it]"
     ]
    },
    {
     "name": "stdout",
     "output_type": "stream",
     "text": [
      "Reranked chunks based on BERT similarity\n",
      "Received answer from API: D\n",
      "Predicted answer for question 45: D\n",
      "Expected answer for question 45: C\n",
      "Received question: During which season did Sandy Beadle score 86 points at Northeastern University?\n",
      "Received choices: ['A. One season', 'B. Two seasons', 'C. Three seasons', 'D. Four seasons']\n",
      "Total chunks created: 67065\n",
      "Ranked chunks based on TF-IDF\n",
      "Reranked chunks based on BERT similarity\n"
     ]
    },
    {
     "name": "stderr",
     "output_type": "stream",
     "text": [
      "Benchmarking Accuracy:  92%|█████████▏| 46/50 [08:18<00:57, 14.36s/it]"
     ]
    },
    {
     "name": "stdout",
     "output_type": "stream",
     "text": [
      "Received answer from API: B\n",
      "Predicted answer for question 46: B\n",
      "Expected answer for question 46: B\n",
      "Received question: What field did Christopher Jargocki earn his doctorate in?\n",
      "Received choices: ['A. Theoretical Physics', 'B. Elementary Particle Theory', 'C. Astrophysics', 'D. Quantum Mechanics']\n",
      "Total chunks created: 67065\n",
      "Ranked chunks based on TF-IDF\n"
     ]
    },
    {
     "name": "stderr",
     "output_type": "stream",
     "text": [
      "Benchmarking Accuracy:  94%|█████████▍| 47/50 [08:32<00:43, 14.49s/it]"
     ]
    },
    {
     "name": "stdout",
     "output_type": "stream",
     "text": [
      "Reranked chunks based on BERT similarity\n",
      "Received answer from API: A\n",
      "Predicted answer for question 47: A\n",
      "Expected answer for question 47: B\n",
      "Received question: What was the focus of the 2015 Gordon Prize awarded to Simon Pitts and Michael B. Silevitch?\n",
      "Received choices: ['A. Biomedical engineering leadership', 'B. Developing personal skills for engineering leaders', 'C. Integrating hands-on learning in engineering education', 'D. Innovations in undergraduate engineering design']\n",
      "Total chunks created: 67065\n",
      "Ranked chunks based on TF-IDF\n",
      "Reranked chunks based on BERT similarity\n"
     ]
    },
    {
     "name": "stderr",
     "output_type": "stream",
     "text": [
      "Benchmarking Accuracy:  96%|█████████▌| 48/50 [08:46<00:28, 14.14s/it]"
     ]
    },
    {
     "name": "stdout",
     "output_type": "stream",
     "text": [
      "Received answer from API: B\n",
      "Predicted answer for question 48: B\n",
      "Expected answer for question 48: B\n",
      "Received question: What position did John A. Curry hold at Northeastern University?\n",
      "Received choices: ['A. Chancellor', 'B. President', 'C. Provost', 'D. Dean']\n",
      "Total chunks created: 67065\n",
      "Ranked chunks based on TF-IDF\n",
      "Reranked chunks based on BERT similarity\n",
      "Received answer from API: B\n"
     ]
    },
    {
     "name": "stderr",
     "output_type": "stream",
     "text": [
      "Benchmarking Accuracy:  98%|█████████▊| 49/50 [08:59<00:13, 13.94s/it]"
     ]
    },
    {
     "name": "stdout",
     "output_type": "stream",
     "text": [
      "Predicted answer for question 49: B\n",
      "Expected answer for question 49: B\n",
      "Received question: Which campus of Northeastern University is mentioned in the document?\n",
      "Received choices: ['A. Seattle Campus', 'B. Boston Campus', 'C. San Francisco Campus', 'D. New York Campus']\n",
      "Total chunks created: 67065\n",
      "Ranked chunks based on TF-IDF\n",
      "Reranked chunks based on BERT similarity\n",
      "Received answer from API: B\n",
      "Predicted answer for question 50: B\n",
      "Expected answer for question 50: A\n"
     ]
    },
    {
     "name": "stderr",
     "output_type": "stream",
     "text": [
      "Benchmarking Accuracy: 100%|██████████| 50/50 [09:14<00:00, 11.09s/it]"
     ]
    },
    {
     "name": "stdout",
     "output_type": "stream",
     "text": [
      "Accuracy: 36.00%\n"
     ]
    },
    {
     "name": "stderr",
     "output_type": "stream",
     "text": [
      "\n"
     ]
    },
    {
     "data": {
      "text/plain": [
       "36.0"
      ]
     },
     "execution_count": 10,
     "metadata": {},
     "output_type": "execute_result"
    }
   ],
   "execution_count": 10
  },
  {
   "metadata": {},
   "cell_type": "code",
   "outputs": [],
   "execution_count": null,
   "source": ""
  }
 ],
 "metadata": {
  "kernelspec": {
   "display_name": "venv",
   "language": "python",
   "name": "python3"
  },
  "language_info": {
   "codemirror_mode": {
    "name": "ipython",
    "version": 3
   },
   "file_extension": ".py",
   "mimetype": "text/x-python",
   "name": "python",
   "nbconvert_exporter": "python",
   "pygments_lexer": "ipython3",
   "version": "3.12.6"
  }
 },
 "nbformat": 4,
 "nbformat_minor": 2
}
