{
 "cells": [
  {
   "cell_type": "code",
   "id": "initial_id",
   "metadata": {
    "collapsed": true,
    "ExecuteTime": {
     "end_time": "2024-10-30T19:48:55.809548Z",
     "start_time": "2024-10-30T19:48:55.801765Z"
    }
   },
   "source": [
    "%load_ext autoreload\n",
    "%autoreload 2"
   ],
   "outputs": [],
   "execution_count": 1
  },
  {
   "metadata": {},
   "cell_type": "code",
   "outputs": [],
   "execution_count": null,
   "source": [
    "import numpy as np\n",
    "from sklearn.cluster import KMeans\n",
    "from sklearn.feature_extraction.text import TfidfVectorizer\n",
    "\n",
    "import Homework4"
   ],
   "id": "a1a57b69ad44a9d7"
  },
  {
   "metadata": {},
   "cell_type": "markdown",
   "source": "# Task 1",
   "id": "74048a48aeda6925"
  },
  {
   "metadata": {},
   "cell_type": "code",
   "outputs": [],
   "execution_count": null,
   "source": [
    "# Example for undergraduate catalog\n",
    "undergrad_pages = Homework4.get_subpages(\"https://catalog.northeastern.edu/undergraduate/computer-information-science/\")\n",
    "grad_pages = Homework4.get_subpages(\"https://catalog.northeastern.edu/graduate/computer-information-science/\")\n",
    "all_pages = undergrad_pages + grad_pages"
   ],
   "id": "4e8143b09e18a65a"
  },
  {
   "metadata": {},
   "cell_type": "markdown",
   "source": "# Task 2",
   "id": "f25b5d68095db46e"
  },
  {
   "metadata": {},
   "cell_type": "code",
   "outputs": [],
   "execution_count": null,
   "source": [
    "# Display content for \"Computer Science, Minor\"\n",
    "for page in all_pages:\n",
    "    if \"computer-science-minor\" in page['url']:  # Check if the URL contains the minor path\n",
    "        print(page['content'])\n",
    "        break"
   ],
   "id": "d554f41a34913965"
  },
  {
   "metadata": {},
   "cell_type": "markdown",
   "source": "# Task 3",
   "id": "27cfde2817fddc60"
  },
  {
   "metadata": {},
   "cell_type": "code",
   "outputs": [],
   "execution_count": null,
   "source": [
    "# Apply clean up function\n",
    "for page in all_pages:\n",
    "    page['content'] = Homework4.clean_content(page['content'])\n",
    "\n",
    "# Convert content sections to vectors and cluster\n",
    "sections = [section for page in all_pages for section in page['content'].split(\"## \")]\n",
    "vectorizer = TfidfVectorizer()\n",
    "X = vectorizer.fit_transform(sections)\n",
    "\n",
    "# Use KMeans for clustering similar sections\n",
    "n_clusters = 20  # Adjust based on content size\n",
    "kmeans = KMeans(n_clusters=n_clusters)\n",
    "kmeans.fit(X)\n",
    "\n",
    "# Display top 20 most similar sections\n",
    "for i in range(n_clusters):\n",
    "    cluster_indices = np.where(kmeans.labels_ == i)[0]\n",
    "    if len(cluster_indices) > 1:  # Only show clusters with potential duplicates\n",
    "        print(f\"Cluster {i}:\")\n",
    "        for index in cluster_indices[:5]:  # Display top 5 similar sections for brevity\n",
    "            print(sections[index])\n",
    "            print(\"\\n\" + \"=\" * 40 + \"\\n\")"
   ],
   "id": "dc350d66c97305a5"
  },
  {
   "metadata": {},
   "cell_type": "markdown",
   "source": "# Task 4",
   "id": "2ccaa1ad60911f1e"
  },
  {
   "metadata": {},
   "cell_type": "code",
   "outputs": [],
   "execution_count": null,
   "source": "",
   "id": "61907b3b5b39fb52"
  },
  {
   "metadata": {},
   "cell_type": "markdown",
   "source": "# Task 5",
   "id": "53e864ec51628299"
  },
  {
   "metadata": {},
   "cell_type": "code",
   "outputs": [],
   "execution_count": null,
   "source": "",
   "id": "d4fac5ec1afe590"
  },
  {
   "metadata": {},
   "cell_type": "markdown",
   "source": "# Task 6",
   "id": "55a0dacd9d9b6f23"
  },
  {
   "metadata": {},
   "cell_type": "code",
   "outputs": [],
   "execution_count": null,
   "source": "",
   "id": "1ce40981098a1660"
  }
 ],
 "metadata": {
  "kernelspec": {
   "display_name": "Python 3",
   "language": "python",
   "name": "python3"
  },
  "language_info": {
   "codemirror_mode": {
    "name": "ipython",
    "version": 2
   },
   "file_extension": ".py",
   "mimetype": "text/x-python",
   "name": "python",
   "nbconvert_exporter": "python",
   "pygments_lexer": "ipython2",
   "version": "2.7.6"
  }
 },
 "nbformat": 4,
 "nbformat_minor": 5
}
