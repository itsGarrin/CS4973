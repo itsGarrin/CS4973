{
 "cells": [
  {
   "cell_type": "code",
   "id": "initial_id",
   "metadata": {
    "collapsed": true,
    "ExecuteTime": {
     "end_time": "2024-10-30T19:48:55.809548Z",
     "start_time": "2024-10-30T19:48:55.801765Z"
    }
   },
   "source": [
    "%load_ext autoreload\n",
    "%autoreload 2"
   ],
   "outputs": [],
   "execution_count": 1
  },
  {
   "metadata": {},
   "cell_type": "code",
   "outputs": [],
   "execution_count": null,
   "source": "#imports\n",
   "id": "a1a57b69ad44a9d7"
  },
  {
   "metadata": {},
   "cell_type": "markdown",
   "source": "# Task 1",
   "id": "74048a48aeda6925"
  },
  {
   "metadata": {},
   "cell_type": "code",
   "outputs": [],
   "execution_count": null,
   "source": "",
   "id": "4e8143b09e18a65a"
  },
  {
   "metadata": {},
   "cell_type": "markdown",
   "source": "# Task 2",
   "id": "f25b5d68095db46e"
  },
  {
   "metadata": {},
   "cell_type": "code",
   "outputs": [],
   "execution_count": null,
   "source": "",
   "id": "d554f41a34913965"
  },
  {
   "metadata": {},
   "cell_type": "markdown",
   "source": "# Task 3",
   "id": "27cfde2817fddc60"
  },
  {
   "metadata": {},
   "cell_type": "code",
   "outputs": [],
   "execution_count": null,
   "source": "",
   "id": "dc350d66c97305a5"
  },
  {
   "metadata": {},
   "cell_type": "markdown",
   "source": "# Task 4",
   "id": "2ccaa1ad60911f1e"
  },
  {
   "metadata": {},
   "cell_type": "code",
   "outputs": [],
   "execution_count": null,
   "source": "",
   "id": "61907b3b5b39fb52"
  },
  {
   "metadata": {},
   "cell_type": "markdown",
   "source": "# Task 5",
   "id": "53e864ec51628299"
  },
  {
   "metadata": {},
   "cell_type": "code",
   "outputs": [],
   "execution_count": null,
   "source": "",
   "id": "d4fac5ec1afe590"
  },
  {
   "metadata": {},
   "cell_type": "markdown",
   "source": "# Task 6",
   "id": "55a0dacd9d9b6f23"
  },
  {
   "metadata": {},
   "cell_type": "code",
   "outputs": [],
   "execution_count": null,
   "source": "",
   "id": "1ce40981098a1660"
  }
 ],
 "metadata": {
  "kernelspec": {
   "display_name": "Python 3",
   "language": "python",
   "name": "python3"
  },
  "language_info": {
   "codemirror_mode": {
    "name": "ipython",
    "version": 2
   },
   "file_extension": ".py",
   "mimetype": "text/x-python",
   "name": "python",
   "nbconvert_exporter": "python",
   "pygments_lexer": "ipython2",
   "version": "2.7.6"
  }
 },
 "nbformat": 4,
 "nbformat_minor": 5
}
