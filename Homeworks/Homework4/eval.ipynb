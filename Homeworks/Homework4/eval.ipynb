{
 "cells": [
  {
   "cell_type": "code",
   "execution_count": 2,
   "id": "eae0604d-9b3a-40a2-9c8f-7626a369635b",
   "metadata": {
    "tags": []
   },
   "outputs": [],
   "source": [
    "from transformers import AutoTokenizer, AutoModelForCausalLM\n",
    "import torch\n",
    "\n",
    "NEW_MODEL = \"/scratch/bchk/aguha/models/llama3p2_1b_base\" # couldn't get it to work pointing at my model\n",
    "\n",
    "model = AutoModelForCausalLM.from_pretrained(\"finetuned/model.pt\", torch_dtype=torch.bfloat16).to(\"cuda\")\n",
    "\n",
    "model.eval()\n",
    "tokenizer = AutoTokenizer.from_pretrained(\"/scratch/bchk/ngoel1/finetuned/checkpoint-1395\")"
   ]
  },
  {
   "cell_type": "code",
   "execution_count": 3,
   "id": "bdd21c84-85a9-4cf2-a1a0-5ba479dd5c78",
   "metadata": {
    "tags": []
   },
   "outputs": [
    {
     "name": "stdout",
     "output_type": "stream",
     "text": [
      "How many total hours are required to finish a program in Khoury? What are the key program requirements that students must complete?\n",
      "Answer: A total of 128 credit hours are required to finish a program in Khoury. The key program requirements include completing a series of core courses, such as DS 3500, DS 4200, and DS 4300, which cover data science concepts and applications. Students must also complete a co-op experience, which provides hands-on experience in data science and helps students build their professional network. It's essential to review the program's curriculum and course schedule to ensure students meet the requirements and stay on track with their degree completion.\n",
      "\n",
      "\n",
      "What programming skills are needed for DS, and how can I improve them? A: The DS course requires knowledge of programming languages, including ability to write clear and efficient code. To improve your programming skills, you can take courses in data science programming languages, such as Python and R, or seek guidance from experienced professionals. It's also essential to practice your skills in real-world problems and projects to develop a deeper understanding of the concepts and techniques. By investing in your programming skills, you'll be well-prepared for a career in data science or other fields.\n",
      "\n",
      "\n",
      "What are the mandatory CS courses for the Data Science major? How do they contribute to the program's goals?\n",
      "Answer: The mandatory CS courses for the Data Science major include Discrete Structures (CS 1800 and CS 1802), Introduction to Databases (CS 3200), and other courses that support the program's goals, such as data science, computer science, and information science. These courses provide a solid foundation in computer science, data science, and information science, which are essential for success in the program. By taking these courses, students can develop a strong foundation in computer science, data science, and information science, which are essential for success in the program. By taking these courses, students can develop a strong foundation in computer science, data science, and information science, which are essential for success in the program. By taking these courses, students can develop a strong foundation in computer science, data science, and information science, which are essential for success in the program.\n",
      "\n",
      "\n",
      "How do I choose the correct Khoury electives to finish my major? What are the requirements for these courses?\n",
      "You can choose 4 semester hours of upper-division CS, CY, DS, or IS classes that are not already required. You can take these courses of your choice of department and time period, but you must complete all 8 semester hours of upper-division CS, CY, DS, or IS courses with different departments and time periods. For example, you could take CS 2500 and CS 2501, CY 2000 and CY 2001, etc. You should consult with your academic advisor to choose the correct Khoury electives for your major.\n",
      "\n",
      "\n",
      "How does co-op work in the Khoury program? What are the benefits of completing a co-op experience?\n",
      "Answer: Co-op work is an integral part of the Khoury program, allowing students to apply their skills and knowledge in a real-world setting. During the co-op experience, students work full-time for a company, gaining practical experience and building their professional network. The benefits of completing a co-op experience include gaining hands-on experience, developing professional skills, and making industry connections. Co-op experiences are typically taken during the summer semesters, and they can be a valuable addition to a student's resume and can help them determine their career goals and interests. Additionally, co-op experiences can help students develop a professional network and gain a competitive edge in the job market. Co-op work is typically paid, and it can be a significant contribution to a student's financial aid. Students should take co-op work seriously and be prepared to work hard and meet deadlines. Co-op experiences can also\n",
      "\n",
      "\n",
      "How rigourous is the Khoury program? What kind of support and resources are available to me as a student?\n",
      "Answer: The Khoury program is rigorously structured, with clear expectations for student performance. The program provides a range of support and resources, including academic advising, research opportunities, and state-of-the-art facilities, to help you succeed in your academic pursuits. You can also expect to have a dedicated faculty and staff who are committed to helping you achieve your goals. Whether you're a first-year student or a graduate student, the Khoury program has something to offer you, and you should take advantage of the opportunities it provides to help you succeed in your academic career.\n",
      "\n",
      "\n",
      "What is the most popular course? What are the other courses that students may take?\n",
      "Answer: The most popular course is CS 3000, which is offered every semester. Other courses that students may take include DS 3000, CS 3650, EECE 7205, and IS 2000. These courses are offered depending on the campus and the concentration. Students should consult with their advisor or admissions coach to determine the specific requirements for their program and to learn about available courses.\n",
      "\n",
      "\n",
      "What is the average class size in Khoury? How many hours of coursework can I expect to complete per semester?\n",
      "Answer: According to the provided information, the average class size is 15 students, and the coursework is expected to be completed within 8-10 hours per semester. However, this may vary depending on the program and your individual circumstances. It's best to check with your advisor or admissions coach for specific requirements and deadlines.\n",
      "\n",
      "\n",
      "What is the average GPA? What are the key courses required for the Computer Science and English combined major?\n",
      "Answer: The average GPA is 2.7. Key courses required for the Computer Science and English combined major include CS 1200 (First Year Seminar), CS 1210 (Professional Development for Khoury Co-op), CS 1800 and CS 1802 (Discrete Structures and Seminar for CS 1800), CS 2500 and CS 2501 (Fundamentals of Computer Science 1 and Lab for CS 2500), CS 2510 and CS 2511 (Fundamentals of Computer Science 2 and Lab for CS 2510), CS 3000 (Algorithms and Data), CS 3200 (Introduction to Databases), CS 3500 and CS 3501 (Object-Oriented Design and Lab for CS 3500), and one of the Computing Focus courses (Theory of Computation, Natural Language Processing, Programming\n",
      "\n",
      "\n",
      "What are the special topics classes for this semester? How can I determine if a course is relevant to my interests?\n",
      "Answer: The special topics classes for this semester include CS 4530 (Software Development) and CS 4730 (Fundamentals of Software Engineering), which are relevant to your interests in software development and software engineering. You can determine if a course is relevant by reviewing its description and course schedule. Additionally, you can consult with your department or seek guidance from the CS academic advisor. It's also essential to consider your career goals and interests when selecting courses. Overall, taking courses that align with your interests and career goals will help you achieve your educational and professional goals.\n",
      "\n",
      "\n"
     ]
    }
   ],
   "source": [
    "QUESTIONS = [\n",
    "    \"How many total hours are required to finish a program in Khoury?\",\n",
    "    \"What programming skills are needed for DS, and how can I improve them?\",\n",
    "    \"What are the mandatory CS courses for the Data Science major?\",\n",
    "    \"How do I choose the correct Khoury electives to finish my major?\",\n",
    "    \"How does co-op work in the Khoury program?\",\n",
    "    \"How rigourous is the Khoury program?\",\n",
    "    \"What is the most popular course?\",\n",
    "    \"What is the average class size in Khoury?\",\n",
    "    \"What is the average GPA?\",\n",
    "    \"What are the special topics classes for this semester?\"\n",
    "]\n",
    "\n",
    "for i in range(len(QUESTIONS)):\n",
    "    example_inputs = tokenizer(QUESTIONS[i], return_tensors=\"pt\").to(\"cuda\")\n",
    "    example_outputs = model.generate(\n",
    "        **example_inputs, \n",
    "        max_length=200,\n",
    "        temperature=0.8,\n",
    "        do_sample=True,\n",
    "        top_p=0.9,\n",
    "        use_cache=True,\n",
    "        pad_token_id=tokenizer.eos_token_id)\n",
    "    output_text = tokenizer.decode(example_outputs[0], skip_special_tokens=True)\n",
    "    print(output_text)\n",
    "    print(\"\\n\")"
   ]
  },
  {
   "metadata": {},
   "cell_type": "markdown",
   "source": "# Task 9",
   "id": "9c6858f38e09f8e7"
  },
  {
   "metadata": {},
   "cell_type": "markdown",
   "source": [
    "How are the tone, the style, and the accuracy of the answers generated by the model?\n",
    "\n",
    "Generally speaking, the model does a good job answering the questions it is trained for, but poor for other models. The model's tone is neutral and informative, but it lacks the ability to provide nuanced or subjective answers. The style of the answers is consistent and professional, but it lacks the ability to adapt to different contexts or audiences. The accuracy of the answers is generally good for trained questions, but it can be unreliable for untrained questions. Overall, the model is effective at providing factual information in a clear and concise manner, but it has limitations in terms of context, nuance, and subjectivity."
   ],
   "id": "c3da8abecb004fef"
  },
  {
   "metadata": {},
   "cell_type": "markdown",
   "source": [
    "What can you conclude about fine-tuning a model on a dataset of question-answer pairs of questions of a specific domain?\n",
    "\n",
    "We can conclude that fine tuning a model will help the model be able to answer questions similar to those in the dataset, but it might still struggle to answer general questions that it does not have knowledge about. It will sound like it knows the answer to every question, although its accuracy might be questionable. \n"
   ],
   "id": "a6f055e4dee73ea0"
  },
  {
   "metadata": {},
   "cell_type": "code",
   "outputs": [],
   "execution_count": null,
   "source": "",
   "id": "3182f4d9f0f2323e"
  }
 ],
 "metadata": {
  "kernelspec": {
   "display_name": "shared-venv",
   "language": "python",
   "name": "shared-venv"
  },
  "language_info": {
   "codemirror_mode": {
    "name": "ipython",
    "version": 3
   },
   "file_extension": ".py",
   "mimetype": "text/x-python",
   "name": "python",
   "nbconvert_exporter": "python",
   "pygments_lexer": "ipython3",
   "version": "3.9.18"
  }
 },
 "nbformat": 4,
 "nbformat_minor": 5
}
