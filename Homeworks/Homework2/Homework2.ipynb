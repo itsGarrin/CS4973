{
 "cells": [
  {
   "cell_type": "code",
   "execution_count": 7,
   "metadata": {},
   "outputs": [
    {
     "name": "stdout",
     "output_type": "stream",
     "text": [
      "To help you make an informed decision, I'll use the tools to gather information about the players involved in the trade. Here are the requests I'd like to make:\n",
      "\n",
      "1. **get_stats** for JK Dobbins, last 8 games, and the following stats: rushing yards, rushing touchdowns, receptions, receiving yards, and receiving touchdowns.\n",
      "2. **get_stats** for CD Lamb, last 8 games, and the following stats: receptions, receiving yards, and receiving touchdowns.\n",
      "3. **get_stats** for Lamar Jackson, last 8 games, and the following stats: passing yards, passing touchdowns, rushing yards, and rushing touchdowns.\n",
      "4. **get_stats** for Tyrone Tracy Jr, last 8 games, and the following stats: receptions, receiving yards, and receiving touchdowns.\n",
      "5. **get_rank** for JK Dobbins, and the league type is PPR (Points Per Reception).\n",
      "6. **get_rank** for CD Lamb, and the league type is PPR (Points Per Reception).\n",
      "7. **get_rank** for Lamar Jackson, and the league type is PPR (Points Per Reception).\n",
      "8. **get_rank** for Tyrone Tracy Jr, and the league type is PPR (Points Per Reception).\n",
      "\n",
      "Please provide the results for these requests, and I'll help you analyze the data to make a decision about the trade.\n"
     ]
    }
   ],
   "source": [
    "from openai import OpenAI\n",
    "import os\n",
    "\n",
    "client = OpenAI(base_url=os.getenv(\"URL\"), api_key=os.getenv(\"KEY\"))\n",
    "\n",
    "resp = client.chat.completions.create(\n",
    "    messages = [{ \n",
    "        \"role\": \"user\", \n",
    "        \"content\": \"Should I trade JK Dobbins and CD Lamb for Lamar Jackson and Tyrone Tracy Jr in Fantasy Football? You have access to 2 tools. One is called get_stats and can give you stats for a player, you must specify the name of the player, the last N games you want, and which stats you want. Another tool is called get_rank, and takes in a name and league type and gives you a value amount for that player from 0-100. If you need access to any of those tools, please return the requests in a list with the given parameters and I will respond with the results. I want the most up to date info, which includes games up to November 23 2024.\" \n",
    "    }],\n",
    "    model = \"meta-llama/Meta-Llama-3.1-8B-Instruct\",\n",
    "    temperature=0)\n",
    "print(resp.choices[0].message.content)"
   ]
  },
  {
   "cell_type": "code",
   "execution_count": 27,
   "metadata": {},
   "outputs": [],
   "source": [
    "from typing import List\n",
    "from datasets import load_dataset\n",
    "from datetime import date, time, datetime\n",
    "import dataclasses\n",
    "\n",
    "\n",
    "@dataclasses.dataclass\n",
    "class Flight:\n",
    "    id: int\n",
    "    date: date\n",
    "    airline: str\n",
    "    flight_number: str\n",
    "    origin: str\n",
    "    destination: str\n",
    "    departure_time: time\n",
    "    arrival_time: time\n",
    "    available_seats: int\n",
    "\n",
    "\n",
    "def parse_flight(flight):\n",
    "    return Flight(\n",
    "        id=flight[\"id\"],\n",
    "        date=datetime.strptime(flight[\"date\"], \"%Y-%m-%d\").date(),\n",
    "        airline=flight[\"airline\"],\n",
    "        flight_number=flight[\"flight_number\"],\n",
    "        origin=flight[\"origin\"],\n",
    "        destination=flight[\"destination\"],\n",
    "        departure_time=datetime.strptime(flight[\"departure_time\"], \"%H:%M\").time(),\n",
    "        arrival_time=datetime.strptime(flight[\"arrival_time\"], \"%H:%M\").time(),\n",
    "        available_seats=flight[\"available_seats\"],\n",
    "    )\n",
    "\n",
    "\n",
    "def load_flights_dataset() -> List[Flight]:\n",
    "    return [\n",
    "        parse_flight(flight)\n",
    "        for flight in load_dataset(\"nuprl/llm-systems-flights\", split=\"train\")\n",
    "    ]"
   ]
  },
  {
   "cell_type": "code",
   "execution_count": 28,
   "metadata": {},
   "outputs": [],
   "source": [
    "# print out dataset to file\n",
    "flights = load_flights_dataset()\n",
    "with open(\"flights.txt\", \"w\") as f:\n",
    "    for flight in flights:\n",
    "        f.write(f\"{flight.id}, {flight.date}, {flight.airline}, {flight.flight_number}, {flight.origin}, {flight.destination}, {flight.departure_time}, {flight.arrival_time}, {flight.available_seats}\\n\")\n",
    "\n",
    "# - prompt: I need to go from ATL to SEA on Jan 9\n",
    "#   expected_type: find-flights\n",
    "#   expected_result: [663, 664, 665]\n",
    "# - prompt: Book the earliest flight for the journey\n",
    "#   expected_type: book-flight\n",
    "#   expected_result: 663\n",
    "\n"
   ]
  },
  {
   "cell_type": "code",
   "execution_count": 31,
   "metadata": {},
   "outputs": [
    {
     "name": "stdout",
     "output_type": "stream",
     "text": [
      "['find-flights', [Flight(id=662, date=datetime.date(2023, 1, 9), airline='United', flight_number='UA6982', origin='ATL', destination='SEA', departure_time=datetime.time(1, 48), arrival_time=datetime.time(3, 48), available_seats=102), Flight(id=663, date=datetime.date(2023, 1, 9), airline='JetBlue', flight_number='B68202', origin='ATL', destination='SEA', departure_time=datetime.time(9, 55), arrival_time=datetime.time(11, 55), available_seats=103), Flight(id=664, date=datetime.date(2023, 1, 9), airline='Southwest', flight_number='WN4071', origin='ATL', destination='SEA', departure_time=datetime.time(20, 23), arrival_time=datetime.time(22, 23), available_seats=107)]]\n"
     ]
    }
   ],
   "source": [
    "from typing import List, Optional\n",
    "\n",
    "flights = load_flights_dataset()\n",
    "\n",
    "def find_flights(origin: str, destination: str, date: date) -> List[Flight]:\n",
    "        flights_two = []\n",
    "\n",
    "        for flight in flights:\n",
    "            if flight.origin == origin and flight.destination == destination and flight.date == date:\n",
    "                flights_two.append(flight)\n",
    "\n",
    "        return flights_two\n",
    "\n",
    "def book_flight(flight_id: int) -> Optional[int]:\n",
    "        for flight in flights:\n",
    "            if flight.id == flight_id:\n",
    "                return flight.id\n",
    "\n",
    "        return None"
   ]
  },
  {
   "cell_type": "code",
   "execution_count": null,
   "metadata": {},
   "outputs": [],
   "source": [
    "from typing import List, Optional\n",
    "\n",
    "class Agent:\n",
    "\n",
    "    # The complete conversation with the LLM, including the system prompt.\n",
    "    conversation: List[dict]\n",
    "    # The formatted response from the last tool call.\n",
    "    text_prefix: Optional[str]\n",
    "    # The current database of flights. The tools update this database.\n",
    "    flights: List[Flight]\n",
    "    client: OpenAI\n",
    "    # Global variables used in tool calls.\n",
    "    program_state: dict\n",
    "\n",
    "    def find_flights(self, origin: str, destination: str, date: date) -> List[Flight]:\n",
    "        pass\n",
    "        \n",
    "    def book_flight(self, flight_id: int) -> Optional[int]:\n",
    "        pass"
   ]
  }
 ],
 "metadata": {
  "kernelspec": {
   "display_name": ".venv",
   "language": "python",
   "name": "python3"
  },
  "language_info": {
   "codemirror_mode": {
    "name": "ipython",
    "version": 3
   },
   "file_extension": ".py",
   "mimetype": "text/x-python",
   "name": "python",
   "nbconvert_exporter": "python",
   "pygments_lexer": "ipython3",
   "version": "3.12.6"
  }
 },
 "nbformat": 4,
 "nbformat_minor": 2
}
