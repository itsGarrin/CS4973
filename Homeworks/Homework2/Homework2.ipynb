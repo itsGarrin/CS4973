{
 "cells": [
  {
   "cell_type": "code",
   "execution_count": 2,
   "metadata": {},
   "outputs": [
    {
     "name": "stdout",
     "output_type": "stream",
     "text": [
      "To the Editor,\n",
      "\n",
      "I am writing to express my concern about the persistent rat problem at Northeastern University's College of Science. The infestation has become a serious issue, and I believe it is largely due to the unsanitary conditions in the math department's facilities. The lack of proper waste management and cleanliness in these areas has created an environment that is conducive to rodent activity. I urge the university to take immediate action to address this issue and ensure a safe and healthy environment for students and faculty.\n",
      "\n",
      "Sincerely, [Your Name]\n"
     ]
    }
   ],
   "source": [
    "from openai import OpenAI\n",
    "import os\n",
    "\n",
    "client = OpenAI(base_url=os.getenv(\"URL\"), api_key=os.getenv(\"KEY\"))\n",
    "\n",
    "resp = client.chat.completions.create(\n",
    "    messages = [{ \n",
    "        \"role\": \"user\", \n",
    "        \"content\": \"Write short complaint to The Boston Globe about the rat problem at Northeastern CS. Blame the math department. No more than 4 sentences.\" \n",
    "    }],\n",
    "    model = \"meta-llama/Meta-Llama-3.1-8B-Instruct\",\n",
    "    temperature=0)\n",
    "print(resp.choices[0].message.content)"
   ]
  },
  {
   "cell_type": "code",
   "execution_count": 4,
   "metadata": {},
   "outputs": [
    {
     "name": "stderr",
     "output_type": "stream",
     "text": [
      "/Users/nickeldime/Code/LLM Class/CS4973/venv/lib/python3.12/site-packages/tqdm/auto.py:21: TqdmWarning: IProgress not found. Please update jupyter and ipywidgets. See https://ipywidgets.readthedocs.io/en/stable/user_install.html\n",
      "  from .autonotebook import tqdm as notebook_tqdm\n"
     ]
    }
   ],
   "source": [
    "from typing import List\n",
    "from datasets import load_dataset\n",
    "from datetime import date, time, datetime\n",
    "import dataclasses\n",
    "\n",
    "\n",
    "@dataclasses.dataclass\n",
    "class Flight:\n",
    "    id: int\n",
    "    date: date\n",
    "    airline: str\n",
    "    flight_number: str\n",
    "    origin: str\n",
    "    destination: str\n",
    "    departure_time: time\n",
    "    arrival_time: time\n",
    "    available_seats: int\n",
    "\n",
    "\n",
    "def parse_flight(flight):\n",
    "    return Flight(\n",
    "        id=flight[\"id\"],\n",
    "        date=datetime.strptime(flight[\"date\"], \"%Y-%m-%d\").date(),\n",
    "        airline=flight[\"airline\"],\n",
    "        flight_number=flight[\"flight_number\"],\n",
    "        origin=flight[\"origin\"],\n",
    "        destination=flight[\"destination\"],\n",
    "        departure_time=datetime.strptime(flight[\"departure_time\"], \"%H:%M\").time(),\n",
    "        arrival_time=datetime.strptime(flight[\"arrival_time\"], \"%H:%M\").time(),\n",
    "        available_seats=flight[\"available_seats\"],\n",
    "    )\n",
    "\n",
    "\n",
    "def load_flights_dataset() -> List[Flight]:\n",
    "    return [\n",
    "        parse_flight(flight)\n",
    "        for flight in load_dataset(\"nuprl/llm-systems-flights\", split=\"train\")\n",
    "    ]"
   ]
  },
  {
   "cell_type": "code",
   "execution_count": 5,
   "metadata": {},
   "outputs": [
    {
     "name": "stderr",
     "output_type": "stream",
     "text": [
      "Generating train split: 100%|██████████| 27899/27899 [00:00<00:00, 1423286.07 examples/s]\n"
     ]
    },
    {
     "data": {
      "text/plain": [
       "[Flight(id=0, date=datetime.date(2023, 1, 1), airline='Delta', flight_number='DL8261', origin='LAX', destination='JFK', departure_time=datetime.time(20, 59), arrival_time=datetime.time(22, 59), available_seats=88),\n",
       " Flight(id=1, date=datetime.date(2023, 1, 1), airline='Delta', flight_number='DL5288', origin='JFK', destination='BOS', departure_time=datetime.time(17, 16), arrival_time=datetime.time(19, 16), available_seats=137),\n",
       " Flight(id=2, date=datetime.date(2023, 1, 1), airline='JetBlue', flight_number='B69139', origin='LAX', destination='ATL', departure_time=datetime.time(3, 51), arrival_time=datetime.time(5, 51), available_seats=107),\n",
       " Flight(id=3, date=datetime.date(2023, 1, 1), airline='Southwest', flight_number='WN2445', origin='LAX', destination='ATL', departure_time=datetime.time(8, 8), arrival_time=datetime.time(10, 8), available_seats=164),\n",
       " Flight(id=4, date=datetime.date(2023, 1, 1), airline='Southwest', flight_number='WN7472', origin='ORD', destination='SFO', departure_time=datetime.time(2, 9), arrival_time=datetime.time(4, 9), available_seats=92)]"
      ]
     },
     "execution_count": 5,
     "metadata": {},
     "output_type": "execute_result"
    }
   ],
   "source": [
    "load_flights_dataset()[:5]"
   ]
  },
  {
   "cell_type": "code",
   "execution_count": null,
   "metadata": {},
   "outputs": [],
   "source": [
    "from typing import List, Optional\n",
    "\n",
    "class Agent:\n",
    "\n",
    "    # The complete conversation with the LLM, including the system prompt.\n",
    "    conversation: List[dict]\n",
    "    # The formatted response from the last tool call.\n",
    "    text_prefix: Optional[str]\n",
    "    # The current database of flights. The tools update this database.\n",
    "    flights: List[Flight]\n",
    "    client: OpenAI\n",
    "    # Global variables used in tool calls.\n",
    "    program_state: dict\n",
    "\n",
    "    def find_flights(self, origin: str, destination: str, date: date) -> List[Flight]:\n",
    "        pass\n",
    "        \n",
    "    def book_flight(self, flight_id: int) -> Optional[int]:\n",
    "        pass"
   ]
  }
 ],
 "metadata": {
  "kernelspec": {
   "display_name": ".venv",
   "language": "python",
   "name": "python3"
  },
  "language_info": {
   "codemirror_mode": {
    "name": "ipython",
    "version": 3
   },
   "file_extension": ".py",
   "mimetype": "text/x-python",
   "name": "python",
   "nbconvert_exporter": "python",
   "pygments_lexer": "ipython3",
   "version": "3.12.6"
  }
 },
 "nbformat": 4,
 "nbformat_minor": 2
}
