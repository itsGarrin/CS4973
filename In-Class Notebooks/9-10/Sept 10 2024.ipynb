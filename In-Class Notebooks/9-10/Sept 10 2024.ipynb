{
 "cells": [
  {
   "cell_type": "markdown",
   "metadata": {},
   "source": [
    "# More Prompting Techniques"
   ]
  },
  {
   "cell_type": "markdown",
   "metadata": {},
   "source": [
    "## Setup"
   ]
  },
  {
   "cell_type": "code",
   "execution_count": null,
   "metadata": {},
   "outputs": [],
   "source": [
    "from openai import OpenAI\n",
    "import datasets\n",
    "import textwrap\n",
    "from collections import namedtuple\n",
    "from tqdm.auto import tqdm\n",
    "import os"
   ]
  },
  {
   "cell_type": "markdown",
   "metadata": {},
   "source": [
    "I have set the following environment variables in `~/.zshrc` (macOS) or `~/.bashrc` (Linux / WSL)."
   ]
  },
  {
   "cell_type": "code",
   "execution_count": 2,
   "metadata": {},
   "outputs": [],
   "source": [
    "BASE_URL = os.getenv(\"CS4973_BASE_URL\")\n",
    "API_KEY=api_key=os.getenv(\"CS4973_API_KEY\")\n",
    "assert BASE_URL is not None\n",
    "assert API_KEY is not None\n",
    "\n",
    "client = OpenAI(base_url=BASE_URL, api_key=API_KEY)\n",
    "\n",
    "def llama3(prompt, **kwargs):\n",
    "    response = client.completions.create(\n",
    "        model=\"meta-llama/Meta-Llama-3.1-8B\",\n",
    "        prompt=prompt,\n",
    "        **kwargs)\n",
    "    return response.choices[0].text"
   ]
  },
  {
   "cell_type": "markdown",
   "metadata": {},
   "source": [
    "## Loading Datasets"
   ]
  },
  {
   "cell_type": "markdown",
   "metadata": {},
   "source": [
    "You should get used to the [Hugging Face\n",
    "Datasets](https://huggingface.co/docs/datasets/) library. It is widely used for\n",
    "public benchmark problems, and for proprietary datasets. We are going to use it\n",
    "load some problems from BIG-Bench Hard ([Suzgun et al,\n",
    "2019](https://arxiv.org/abs/2210.09261)).\n",
    "\n",
    "The code below loads the `\"maveriq/bigbenchhard\"` dataset and select the\n",
    "`\"reasoning_about_colored_objects\"` configuration and the `\"train\" split within it."
   ]
  },
  {
   "cell_type": "code",
   "execution_count": 4,
   "metadata": {},
   "outputs": [
    {
     "data": {
      "text/plain": [
       "Dataset({\n",
       "    features: ['input', 'target'],\n",
       "    num_rows: 250\n",
       "})"
      ]
     },
     "execution_count": 4,
     "metadata": {},
     "output_type": "execute_result"
    }
   ],
   "source": [
    "bbh = datasets.load_dataset(\"maveriq/bigbenchhard\", \"reasoning_about_colored_objects\", split=\"train\")\n",
    "bbh"
   ]
  },
  {
   "cell_type": "markdown",
   "metadata": {},
   "source": [
    "Let's look at one of the problems."
   ]
  },
  {
   "cell_type": "code",
   "execution_count": 8,
   "metadata": {},
   "outputs": [
    {
     "name": "stdout",
     "output_type": "stream",
     "text": [
      "On the floor, there is one mauve cat toy, two purple cat toys, three grey cat toys, two mauve notebooks, three grey notebooks, three burgundy cat toys, and one purple notebook. If I remove all the notebooks from the floor, how many grey objects remain on it?\n",
      "Options:\n",
      "(A) zero\n",
      "(B) one\n",
      "(C) two\n",
      "(D) three\n",
      "(E) four\n",
      "(F) five\n",
      "(G) six\n",
      "(H) seven\n",
      "(I) eight\n",
      "(J) nine\n",
      "(K) ten\n",
      "(L) eleven\n",
      "(M) twelve\n",
      "(N) thirteen\n",
      "(O) fourteen\n",
      "(P) fifteen\n",
      "(Q) sixteen\n"
     ]
    }
   ],
   "source": [
    "print(bbh[0][\"input\"])"
   ]
  },
  {
   "cell_type": "markdown",
   "metadata": {},
   "source": [
    "The following function makes each item a little easier to read."
   ]
  },
  {
   "cell_type": "code",
   "execution_count": 7,
   "metadata": {},
   "outputs": [
    {
     "name": "stdout",
     "output_type": "stream",
     "text": [
      "On the desk, you see several things arranged in a row: a burgundy bracelet, a\n",
      "grey mug, a green necklace, and a magenta textbook. What is the color of the\n",
      "thing directly to the left of the necklace?\n",
      "\n",
      "Answer: (P) grey\n"
     ]
    }
   ],
   "source": [
    "def inspect_bbh(item):\n",
    "    txt, options = item[\"input\"].split(\"Options:\", maxsplit=1)\n",
    "    txt = textwrap.fill(txt, width=80)\n",
    "    for opt in options.split(\"\\n\"):\n",
    "        if item[\"target\"] in opt:\n",
    "            txt += f\"\\n\\nAnswer: {opt}\"\n",
    "            break\n",
    "    return txt\n",
    "\n",
    "print(inspect_bbh(bbh[100]))"
   ]
  },
  {
   "cell_type": "markdown",
   "metadata": {},
   "source": [
    "## Zero-Shot Prompting"
   ]
  },
  {
   "cell_type": "markdown",
   "metadata": {},
   "source": [
    "The BBH problems are quite hard. Llama3.1-8B-Base doesn't do very when using\n",
    "zero-shot prompting. We'll try once, and also try to write an evaluation loop\n",
    "that saves the failures in `zero_shot_failures`. Approach is to write these\n",
    "functions: `prompt_zero_shot`, `extract_zero_shot`, `solve_zero_shot`, and\n",
    "`accuracy_zero_shot`."
   ]
  },
  {
   "cell_type": "code",
   "execution_count": 13,
   "metadata": {},
   "outputs": [
    {
     "data": {
      "text/plain": [
       "{'input': 'On the floor, there is one mauve cat toy, two purple cat toys, three grey cat toys, two mauve notebooks, three grey notebooks, three burgundy cat toys, and one purple notebook. If I remove all the notebooks from the floor, how many grey objects remain on it?\\nOptions:\\n(A) zero\\n(B) one\\n(C) two\\n(D) three\\n(E) four\\n(F) five\\n(G) six\\n(H) seven\\n(I) eight\\n(J) nine\\n(K) ten\\n(L) eleven\\n(M) twelve\\n(N) thirteen\\n(O) fourteen\\n(P) fifteen\\n(Q) sixteen',\n",
       " 'target': '(D)'}"
      ]
     },
     "execution_count": 13,
     "metadata": {},
     "output_type": "execute_result"
    }
   ],
   "source": [
    "bbh[0]"
   ]
  },
  {
   "cell_type": "code",
   "execution_count": 14,
   "metadata": {},
   "outputs": [
    {
     "data": {
      "text/plain": [
       "' (B)\\n'"
      ]
     },
     "execution_count": 14,
     "metadata": {},
     "output_type": "execute_result"
    }
   ],
   "source": [
    "zero_shot_failures = [ ]\n",
    "\n",
    "def prompt_zero_shot(item):\n",
    "    return item[\"input\"] + \"\\n\\nCorrect option:\"\n",
    "\n",
    "def extract_zero_shot(response):\n",
    "    return response.strip()\n",
    "\n",
    "\n",
    "llama3(prompt_zero_shot(bbh[40]), temperature=0, max_tokens=3)"
   ]
  },
  {
   "cell_type": "code",
   "execution_count": 15,
   "metadata": {},
   "outputs": [
    {
     "name": "stdout",
     "output_type": "stream",
     "text": [
      "Expected (D) got (A)\n"
     ]
    },
    {
     "data": {
      "text/plain": [
       "False"
      ]
     },
     "execution_count": 15,
     "metadata": {},
     "output_type": "execute_result"
    }
   ],
   "source": [
    "def solve_zero_shot(item):\n",
    "    response = extract_zero_shot(llama3(prompt_zero_shot(item), temperature=0, max_tokens=3))\n",
    "    if item[\"target\"] == response:\n",
    "        return True\n",
    "    else:\n",
    "        print(f\"Expected {item['target']} got {response}\")\n",
    "        return False\n",
    "\n",
    "solve_zero_shot(bbh[0])"
   ]
  },
  {
   "cell_type": "code",
   "execution_count": 16,
   "metadata": {},
   "outputs": [
    {
     "data": {
      "application/vnd.jupyter.widget-view+json": {
       "model_id": "4657f293fe9a47fc94ca9c684f7851b9",
       "version_major": 2,
       "version_minor": 0
      },
      "text/plain": [
       "  0%|          | 0/250 [00:00<?, ?it/s]"
      ]
     },
     "metadata": {},
     "output_type": "display_data"
    },
    {
     "name": "stdout",
     "output_type": "stream",
     "text": [
      "Expected (D) got (A)\n",
      "Expected (I) got (H)\n",
      "Expected (D) got (A)\n",
      "Expected (B) got (Q)\n",
      "Expected (F) got (A)\n",
      "Expected (K) got K\n",
      "\n",
      "Explanation\n",
      "Expected (B) got B\n",
      "\n",
      "Explanation\n",
      "Expected (E) got (A)\n",
      "Expected (E) got (A)\n",
      "Expected (I) got (N)\n",
      "Expected (L) got (Q)\n",
      "Expected (D) got (A)\n",
      "Expected (C) got (B)\n",
      "Expected (M) got M\n",
      "\n",
      "Explanation\n",
      "Expected (I) got (A)\n",
      "Expected (J) got J\n",
      "Explanation\n",
      "Expected (D) got (A)\n",
      "Expected (E) got (A)\n",
      "Expected (D) got (A)\n",
      "Expected (D) got A\n",
      "Explanation\n",
      "Expected (K) got (L)\n",
      "Expected (D) got (I)\n",
      "Expected (A) got A\n",
      "Explanation\n",
      "Expected (B) got (A)\n",
      "Expected (E) got (H)\n",
      "Expected (B) got (A)\n",
      "Expected (B) got (A)\n",
      "Expected (I) got Q\n",
      "\n",
      "Explanation\n",
      "Expected (B) got B\n",
      "\n",
      "Explanation\n",
      "Expected (D) got (A)\n",
      "Expected (C) got (B)\n",
      "Expected (R) got (Q)\n",
      "Expected (O) got (K)\n",
      "Expected (E) got (A)\n",
      "Expected (C) got (B)\n",
      "Expected (F) got (A)\n",
      "Expected (D) got (H)\n",
      "Expected (B) got A\n",
      "Explanation\n",
      "Expected (E) got (Q)\n",
      "Expected (A) got A\n",
      "\n",
      "Explanation\n",
      "Expected (A) got A\n",
      "\n",
      "Explanation\n",
      "Expected (D) got (A)\n",
      "Expected (M) got (H)\n",
      "Expected (B) got A\n",
      "\n",
      "Explanation\n",
      "Expected (L) got (C)\n",
      "Expected (E) got (A)\n",
      "Expected (Q) got Q\n",
      "\n",
      "Explanation\n",
      "Expected (D) got (K)\n",
      "Expected (F) got (A)\n",
      "Expected (H) got (B)\n",
      "Expected (A) got (P)\n",
      "Expected (B) got A\n",
      "Explanation\n",
      "Expected (H) got Q\n",
      "\n",
      "Explanation\n",
      "Expected (D) got J\n",
      "\n",
      "Explanation\n",
      "Expected (Q) got Q\n",
      "\n",
      "Explanation\n",
      "Expected (C) got A\n",
      "Explanation\n",
      "Expected (E) got (A)\n",
      "Expected (D) got (A)\n",
      "Expected (A) got (B)\n",
      "Expected (O) got (K)\n",
      "Expected (A) got A\n",
      "\n",
      "Explanation\n",
      "Expected (Q) got Q\n",
      "\n",
      "Explanation\n",
      "Expected (E) got (A)\n",
      "Expected (G) got (A)\n",
      "Expected (B) got (A)\n",
      "Expected (B) got A\n",
      "Explanation\n",
      "Expected (C) got (B)\n",
      "Expected (B) got (K)\n",
      "Expected (G) got Q\n",
      "\n",
      "Explanation\n",
      "Expected (M) got (G)\n",
      "Expected (M) got (H)\n",
      "Expected (A) got A\n",
      "\n",
      "Explanation\n",
      "Expected (R) got (K)\n",
      "Expected (M) got (J)\n",
      "Expected (C) got (A)\n",
      "Expected (A) got A\n",
      "Explanation\n",
      "Expected (O) got (G)\n",
      "Expected (D) got (B)\n",
      "Expected (A) got (K)\n",
      "Expected (I) got (K)\n",
      "Expected (F) got (B)\n",
      "Expected (D) got A\n",
      "Explanation\n",
      "Expected (O) got (Q)\n",
      "Expected (G) got (A)\n",
      "Expected (B) got (A)\n",
      "Expected (A) got (P)\n",
      "Expected (K) got K\n",
      "Explanation\n",
      "Expected (D) got (A)\n",
      "Expected (A) got A\n",
      "Explanation\n",
      "Expected (F) got (C)\n",
      "Expected (A) got A\n",
      "Explanation\n",
      "Expected (R) got K\n",
      "Explanation\n",
      "Expected (F) got (P)\n",
      "Expected (E) got A\n",
      "Explanation\n",
      "Expected (D) got (C)\n",
      "Expected (E) got (L)\n",
      "Expected (B) got B\n",
      "\n",
      "Explanation\n",
      "Expected (L) got L\n",
      "Explanation\n",
      "Expected (A) got A\n",
      "\n",
      "Explanation\n",
      "Expected (C) got (B)\n",
      "Expected (D) got (A)\n",
      "Expected (R) got J\n",
      "Explanation\n",
      "Expected (P) got (H)\n",
      "Expected (G) got (A)\n",
      "Expected (M) got M\n",
      "\n",
      "Explanation\n",
      "Expected (D) got (A)\n",
      "Expected (J) got M\n",
      "Explanation\n",
      "Expected (L) got (J)\n",
      "Expected (L) got (A)\n",
      "Expected (B) got A\n",
      "\n",
      "Explanation\n",
      "Expected (R) got (L)\n",
      "Expected (B) got A\n",
      "\n",
      "Explanation\n",
      "Expected (B) got A\n",
      "Explanation\n",
      "Expected (B) got (H)\n",
      "Expected (A) got A\n",
      "Explanation\n",
      "Expected (A) got A\n",
      "\n",
      "Explanation\n",
      "Expected (B) got A\n",
      "\n",
      "Explanation\n",
      "Expected (C) got A\n",
      "Explanation\n",
      "Expected (D) got (A)\n",
      "Expected (B) got (A)\n",
      "Expected (C) got (A)\n",
      "Expected (B) got (A)\n",
      "Expected (F) got (A)\n",
      "Expected (G) got (B)\n",
      "Expected (F) got (A)\n",
      "Expected (A) got A\n",
      "\n",
      "Explanation\n",
      "Expected (J) got (Q)\n",
      "Expected (D) got (A)\n",
      "Expected (C) got (B)\n",
      "Expected (D) got (A)\n",
      "Expected (A) got A\n",
      "\n",
      "Explanation\n",
      "Expected (B) got A\n",
      "Explanation\n",
      "Expected (F) got (A)\n",
      "Expected (R) got (K)\n",
      "Expected (C) got (B)\n",
      "Expected (D) got (A)\n",
      "Expected (H) got H\n",
      "Explanation\n",
      "Expected (A) got (G)\n",
      "Expected (R) got (N)\n",
      "Expected (E) got (A)\n",
      "Expected (B) got A\n",
      "Explanation\n",
      "Expected (B) got A\n",
      "Explanation\n",
      "Expected (E) got (A)\n",
      "Expected (B) got A\n",
      "Explanation\n",
      "Expected (R) got (P)\n",
      "Expected (E) got (A)\n",
      "Expected (E) got (A)\n",
      "Expected (G) got (K)\n",
      "Expected (O) got (A)\n",
      "Expected (N) got (K)\n",
      "Expected (A) got A\n",
      "\n",
      "Explanation\n",
      "Expected (I) got (H)\n",
      "Expected (D) got (B)\n",
      "Expected (B) got A\n",
      "\n",
      "Explanation\n",
      "Expected (R) got (A)\n",
      "Expected (E) got (A)\n",
      "Expected (D) got (M)\n",
      "Expected (A) got (K)\n",
      "Expected (F) got (A)\n",
      "Expected (B) got A\n",
      "Explanation\n",
      "Expected (N) got (Q)\n",
      "Expected (K) got K\n",
      "\n",
      "Explanation\n",
      "Expected (B) got (P)\n",
      "Expected (P) got P\n",
      "Explanation\n",
      "Expected (A) got A\n",
      "\n",
      "Explanation\n",
      "Expected (D) got D\n",
      "Explanation\n",
      "Expected (A) got A\n",
      "Explanation\n",
      "Expected (B) got (A)\n",
      "Expected (A) got A\n",
      "\n",
      "Explanation\n",
      "Expected (F) got A\n",
      "Explanation\n",
      "Expected (O) got (J)\n",
      "Expected (B) got (A)\n",
      "Expected (P) got P\n",
      "\n",
      "Explanation\n",
      "Expected (I) got (K)\n",
      "Expected (D) got (A)\n",
      "Expected (A) got A\n",
      "\n",
      "Explanation\n",
      "Expected (I) got (A)\n",
      "Expected (A) got A\n",
      "Explanation\n",
      "Expected (J) got J\n",
      "Explanation\n",
      "Expected (B) got B\n",
      "\n",
      "Explanation\n",
      "Expected (B) got A\n",
      "Explanation\n",
      "Expected (E) got A\n",
      "Explanation\n",
      "Expected (R) got (H)\n",
      "Expected (A) got A\n",
      "\n",
      "Explanation\n",
      "Expected (A) got A\n",
      "\n",
      "Explanation\n",
      "Expected (F) got (A)\n",
      "Expected (F) got (A)\n",
      "Expected (C) got (B)\n",
      "Expected (N) got (H)\n",
      "Expected (O) got (L)\n",
      "Expected (C) got (B)\n",
      "Expected (E) got (J)\n",
      "Expected (Q) got Q\n",
      "\n",
      "Explanation\n",
      "Expected (Q) got (K)\n",
      "Expected (A) got A\n",
      "Explanation\n",
      "Expected (B) got (K)\n",
      "Expected (E) got A\n",
      "Explanation\n",
      "Expected (J) got J\n",
      "Explanation\n",
      "Expected (E) got (M)\n"
     ]
    }
   ],
   "source": [
    "def accuracy_zero_shot(items):\n",
    "    num_correct = 0\n",
    "    failures = [ ]\n",
    "    for item in tqdm(items):\n",
    "        result = solve_zero_shot(item)\n",
    "        if result:\n",
    "            num_correct += 1\n",
    "        else:\n",
    "            failures.append(item)\n",
    "\n",
    "    return (num_correct / len(items), failures)\n",
    "\n",
    "\n",
    "accuracy, failures = accuracy_zero_shot(bbh)"
   ]
  },
  {
   "cell_type": "code",
   "execution_count": 17,
   "metadata": {},
   "outputs": [
    {
     "data": {
      "text/plain": [
       "0.204"
      ]
     },
     "execution_count": 17,
     "metadata": {},
     "output_type": "execute_result"
    }
   ],
   "source": [
    "accuracy"
   ]
  },
  {
   "cell_type": "code",
   "execution_count": 21,
   "metadata": {},
   "outputs": [
    {
     "data": {
      "text/plain": [
       "Counter({'(B)': 33,\n",
       "         '(A)': 28,\n",
       "         '(D)': 27,\n",
       "         '(E)': 20,\n",
       "         '(F)': 13,\n",
       "         '(C)': 13,\n",
       "         '(R)': 10,\n",
       "         '(I)': 8,\n",
       "         '(O)': 7,\n",
       "         '(M)': 6,\n",
       "         '(G)': 6,\n",
       "         '(L)': 5,\n",
       "         '(J)': 5,\n",
       "         '(Q)': 5,\n",
       "         '(K)': 4,\n",
       "         '(H)': 3,\n",
       "         '(P)': 3,\n",
       "         '(N)': 3})"
      ]
     },
     "execution_count": 21,
     "metadata": {},
     "output_type": "execute_result"
    }
   ],
   "source": [
    "from collections import Counter\n",
    "\n",
    "Counter([ item[\"target\"] for item in failures ])"
   ]
  },
  {
   "cell_type": "markdown",
   "metadata": {},
   "source": [
    "Let's look at a few of these wrong answers and think through what the right answers should be."
   ]
  },
  {
   "cell_type": "markdown",
   "metadata": {},
   "source": [
    "## Few-Shot Prompting"
   ]
  },
  {
   "cell_type": "markdown",
   "metadata": {},
   "source": [
    "Let's try few-shot prompting. I haven't before class. I don't think it will be\n",
    "very effective. We'll write the same four functions as above. (Use GenAI.)"
   ]
  },
  {
   "cell_type": "code",
   "execution_count": 25,
   "metadata": {},
   "outputs": [
    {
     "data": {
      "text/plain": [
       "True"
      ]
     },
     "execution_count": 25,
     "metadata": {},
     "output_type": "execute_result"
    }
   ],
   "source": [
    "FEW_SHOT_PROMPT = bbh[0][\"input\"] + \"\\n\\nCorrect option: \" + bbh[0][\"target\"] + \"\\n\\n\" +  bbh[1][\"input\"] + \"\\n\\nCorrect option: \" + bbh[1][\"target\"] + \"\\n\\n\" +  bbh[2][\"input\"] + \"\\n\\nCorrect option: \" + bbh[2][\"target\"] + \"\\n\\n\"\n",
    "\n",
    "def prompt_fewshot_shot(item):\n",
    "    return FEW_SHOT_PROMPT + \"\\n\\n\" + item[\"input\"] + \"\\n\\nCorrect option:\"\n",
    "\n",
    "def extract_fewshot_shot(response):\n",
    "    return response.strip()\n",
    "\n",
    "def solve_fewshot_shot(item):\n",
    "    response = extract_fewshot_shot(llama3(prompt_fewshot_shot(item), temperature=0, max_tokens=3))\n",
    "    if item[\"target\"] == response:\n",
    "        return True\n",
    "    else:\n",
    "        print(f\"Expected {item['target']} got {response}\")\n",
    "        return False\n",
    "\n",
    "solve_fewshot_shot(bbh[2])"
   ]
  },
  {
   "cell_type": "code",
   "execution_count": 26,
   "metadata": {},
   "outputs": [
    {
     "data": {
      "application/vnd.jupyter.widget-view+json": {
       "model_id": "a9a0e673c0534dcb9988f66b96eb5ee3",
       "version_major": 2,
       "version_minor": 0
      },
      "text/plain": [
       "  0%|          | 0/250 [00:00<?, ?it/s]"
      ]
     },
     "metadata": {},
     "output_type": "display_data"
    },
    {
     "name": "stdout",
     "output_type": "stream",
     "text": [
      "Expected (D) got (F)\n",
      "Expected (B) got (I)\n",
      "Expected (I) got (M)\n",
      "Expected (D) got (A)\n",
      "Expected (C) got (D)\n",
      "Expected (I) got (F)\n",
      "Expected (E) got (D)\n",
      "Expected (D) got (E)\n",
      "Expected (D) got (C)\n",
      "Expected (K) got (J)\n",
      "Expected (A) got (D)\n",
      "Expected (B) got (C)\n",
      "Expected (B) got (E)\n",
      "Expected (B) got (C)\n",
      "Expected (I) got (A)\n",
      "Expected (H) got (R)\n",
      "Expected (R) got (D)\n",
      "Expected (O) got (A)\n",
      "Expected (C) got (B)\n",
      "Expected (F) got (E)\n",
      "Expected (D) got (L)\n",
      "Expected (N) got (M)\n",
      "Expected (D) got (A)\n",
      "Expected (B) got (A)\n",
      "Expected (D) got (K)\n",
      "Expected (F) got (D)\n",
      "Expected (H) got (D)\n",
      "Expected (B) got (C)\n",
      "Expected (A) got (C)\n",
      "Expected (D) got (E)\n",
      "Expected (Q) got (G)\n",
      "Expected (E) got (D)\n",
      "Expected (A) got (C)\n",
      "Expected (O) got (K)\n",
      "Expected (G) got (D)\n",
      "Expected (A) got (C)\n",
      "Expected (B) got (D)\n",
      "Expected (B) got (L)\n",
      "Expected (G) got (M)\n",
      "Expected (M) got (G)\n",
      "Expected (R) got (A)\n",
      "Expected (C) got (A)\n",
      "Expected (A) got (D)\n",
      "Expected (O) got (B)\n",
      "Expected (A) got (L)\n",
      "Expected (I) got (D)\n",
      "Expected (F) got (C)\n",
      "Expected (O) got (M)\n",
      "Expected (G) got (D)\n",
      "Expected (B) got (D)\n",
      "Expected (P) got (L)\n",
      "Expected (A) got (F)\n",
      "Expected (F) got (M)\n",
      "Expected (A) got (C)\n",
      "Expected (R) got (A)\n",
      "Expected (F) got (G)\n",
      "Expected (E) got (L)\n",
      "Expected (B) got (A)\n",
      "Expected (D) got (C)\n",
      "Expected (A) got (D)\n",
      "Expected (A) got (G)\n",
      "Expected (P) got (H)\n",
      "Expected (G) got (D)\n",
      "Expected (G) got (M)\n",
      "Expected (A) got (B)\n",
      "Expected (R) got (K)\n",
      "Expected (B) got (D)\n",
      "Expected (B) got (A)\n",
      "Expected (A) got (E)\n",
      "Expected (A) got (B)\n",
      "Expected (B) got (C)\n",
      "Expected (C) got (E)\n",
      "Expected (D) got (C)\n",
      "Expected (B) got (A)\n",
      "Expected (F) got (E)\n",
      "Expected (G) got (D)\n",
      "Expected (F) got (D)\n",
      "Expected (A) got (B)\n",
      "Expected (C) got (D)\n",
      "Expected (F) got (D)\n",
      "Expected (R) got (J)\n",
      "Expected (D) got (F)\n",
      "Expected (A) got (G)\n",
      "Expected (H) got (M)\n",
      "Expected (A) got (Q)\n",
      "Expected (A) got (G)\n",
      "Expected (R) got (P)\n",
      "Expected (E) got (C)\n",
      "Expected (B) got (C)\n",
      "Expected (E) got (D)\n",
      "Expected (B) got (C)\n",
      "Expected (R) got (A)\n",
      "Expected (E) got (A)\n",
      "Expected (P) got (L)\n",
      "Expected (O) got (L)\n",
      "Expected (I) got (Q)\n",
      "Expected (K) got (L)\n",
      "Expected (N) got (K)\n",
      "Expected (B) got (D)\n",
      "Expected (I) got (H)\n",
      "Expected (E) got (C)\n",
      "Expected (A) got (D)\n",
      "Expected (H) got (M)\n",
      "Expected (F) got (C)\n",
      "Expected (B) got (E)\n",
      "Expected (N) got (L)\n",
      "Expected (B) got (G)\n",
      "Expected (P) got (G)\n",
      "Expected (A) got (D)\n",
      "Expected (B) got (E)\n",
      "Expected (A) got (B)\n",
      "Expected (F) got (E)\n",
      "Expected (A) got (M)\n",
      "Expected (O) got (J)\n",
      "Expected (B) got (A)\n",
      "Expected (P) got (G)\n",
      "Expected (D) got (E)\n",
      "Expected (I) got (D)\n",
      "Expected (A) got (E)\n",
      "Expected (J) got (D)\n",
      "Expected (B) got (A)\n",
      "Expected (B) got (F)\n",
      "Expected (E) got (F)\n",
      "Expected (R) got (A)\n",
      "Expected (A) got (B)\n",
      "Expected (C) got (D)\n",
      "Expected (N) got (M)\n",
      "Expected (Q) got (P)\n",
      "Expected (A) got (E)\n",
      "Expected (B) got (K)\n",
      "Expected (E) got (L)\n",
      "Expected (A) got (D)\n"
     ]
    }
   ],
   "source": [
    "def accuracy_fewshot_shot(items):\n",
    "    num_correct = 0\n",
    "    failures = [ ]\n",
    "    for item in tqdm(items):\n",
    "        result = solve_fewshot_shot(item)\n",
    "        if result:\n",
    "            num_correct += 1\n",
    "        else:\n",
    "            failures.append(item)\n",
    "\n",
    "    return (num_correct / len(items), failures)\n",
    "\n",
    "\n",
    "accuracy, failures = accuracy_fewshot_shot(bbh)"
   ]
  },
  {
   "cell_type": "code",
   "execution_count": 27,
   "metadata": {},
   "outputs": [
    {
     "data": {
      "text/plain": [
       "0.472"
      ]
     },
     "execution_count": 27,
     "metadata": {},
     "output_type": "execute_result"
    }
   ],
   "source": [
    "accuracy"
   ]
  },
  {
   "cell_type": "markdown",
   "metadata": {},
   "source": [
    "## Chain-of-thought Prompting"
   ]
  },
  {
   "cell_type": "markdown",
   "metadata": {},
   "source": [
    "In chain-of-thought prompting, we construct a few-shot prompt, where the few-shot\n",
    "examples include an example of how one might reason through the problem. We do\n",
    "so below, using the reasoning steps from above. Notice how we format the prompt\n",
    "to include both the reasoning steps and an answer that we can extract."
   ]
  },
  {
   "cell_type": "code",
   "execution_count": 43,
   "metadata": {},
   "outputs": [
    {
     "name": "stdout",
     "output_type": "stream",
     "text": [
      " The list is arranged from left to right. The red jug is the second item in the list. The fuchsia teddy bear is the first item in the list. The gold puzzle is the third item in the list. The burgundy bracelet is the fourth item in the list. The green notebook is the fifth item in the list. There are four non-magenta items to the right of the red item.\n",
      "\n",
      "Answer: (E) four\n",
      "\n",
      "\n"
     ]
    }
   ],
   "source": [
    "COT_PROMPT = \"\"\"\n",
    "Input: On the floor, there is one mauve cat toy, two purple cat toys, three grey cat toys, two mauve notebooks, three grey notebooks, three burgundy cat toys, and one purple notebook. If I remove all the notebooks from the floor, how many grey objects remain on it?\n",
    "Options: \n",
    "(A) zero\n",
    "(B) one\n",
    "(C) two\n",
    "(D) three\n",
    "(E) four\n",
    "(F) five\n",
    "(G) six\n",
    "(H) seven\n",
    "(I) eight\n",
    "(J) nine\n",
    "(K) ten\n",
    "(L) eleven\n",
    "(M) twelve\n",
    "(N) thirteen\n",
    "(O) fourteen\n",
    "(P) fifteen\n",
    "(Q) sixteen\n",
    "\n",
    "Reasoning: There are three grey notebooks and three grey cat toys, which is six grey objects. There are two mauve notebooks and three grey notebooks. If I remove all the notebooks from the floor, I remove three grey objects, which gives me three grey objects that remain.\n",
    "\n",
    "Answer: (D) three\n",
    "\n",
    "Done\n",
    "\n",
    "Input: On the desk, you see a set of things arranged in a row: a grey cup, a purple mug, and a blue teddy bear. What is the color of the thing directly to the right of the cup?\n",
    "Options:\n",
    "(A) red\n",
    "(B) orange\n",
    "(C) yellow\n",
    "(D) green\n",
    "(E) blue\n",
    "(F) brown\n",
    "(G) magenta\n",
    "(H) fuchsia\n",
    "(I) mauve\n",
    "(J) teal\n",
    "(K) turquoise\n",
    "(L) burgundy\n",
    "(M) silver\n",
    "(N) gold\n",
    "(O) black\n",
    "(P) grey\n",
    "(Q) purple\n",
    "(R) pink\n",
    "\n",
    "Reasoning: The purple mug is directly to the right of the cup. The list is arranged from left to right.\n",
    "\n",
    "Answer: (Q) purple\n",
    "\n",
    "Done\n",
    "\n",
    "Input: On the nightstand, you see a set of items arranged in a row: a gold plate, a silver stress ball, a fuchsia notebook, a mauve bracelet, a green jug, and a yellow fidget spinner. What is the color of the item directly to the left of the jug?\n",
    "Options:\n",
    "(A) red\n",
    "(B) orange\n",
    "(C) yellow\n",
    "(D) green\n",
    "(E) blue\n",
    "(F) brown\n",
    "(G) magenta\n",
    "(H) fuchsia\n",
    "(I) mauve\n",
    "(J) teal\n",
    "(K) turquoise\n",
    "(L) burgundy\n",
    "(M) silver\n",
    "(N) gold\n",
    "(O) black\n",
    "(P) grey\n",
    "(Q) purple\n",
    "(R) pink\n",
    "\n",
    "Reasoning: The list is arranged from left to right. The mauve bracelet appears immediately before the green jug.\n",
    "\n",
    "Answer: (I) mauve\n",
    "\n",
    "Done\"\"\".strip()\n",
    "\n",
    "\n",
    "def prompt_cot(item):\n",
    "    return COT_PROMPT + \"\\n\\nInput: \" + item[\"input\"] + \"\\n\\Reasoning: \"\n",
    "\n",
    "def extract_cot(response: str):\n",
    "    items = response.split(\"Answer: \")\n",
    "    if len(items) < 2:\n",
    "        return \"(Z)\"\n",
    "    return items[1].split(\" \")[0]\n",
    "\n",
    "print(llama3(prompt_cot(bbh[3]), temperature=0, max_tokens=200, stop=[\"Done\"]))\n"
   ]
  },
  {
   "cell_type": "code",
   "execution_count": 44,
   "metadata": {},
   "outputs": [
    {
     "data": {
      "application/vnd.jupyter.widget-view+json": {
       "model_id": "14dce1654cc64e529ed2de852efe485e",
       "version_major": 2,
       "version_minor": 0
      },
      "text/plain": [
       "  0%|          | 0/250 [00:00<?, ?it/s]"
      ]
     },
     "metadata": {},
     "output_type": "display_data"
    },
    {
     "name": "stdout",
     "output_type": "stream",
     "text": [
      "Expected (D) got (E)\n",
      "Expected (L) got (E)\n",
      "Expected (D) got (E)\n",
      "Expected (E) got (D)\n",
      "Expected (D) got (E)\n",
      "Expected (D) got (C)\n",
      "Expected (A) got (D)\n",
      "Expected (B) got (C)\n",
      "Expected (E) got (H)\n",
      "Expected (B) got (E)\n",
      "Expected (D) got (C)\n",
      "Expected (C) got (B)\n",
      "Expected (C) got (B)\n",
      "Expected (F) got (E)\n",
      "Expected (D) got (L)\n",
      "Expected (D) got (C)\n",
      "Expected (B) got (D)\n",
      "Expected (B) got (A)\n",
      "Expected (L) got (M)\n",
      "Expected (D) got (M)\n",
      "Expected (F) got (E)\n",
      "Expected (H) got (D)\n",
      "Expected (A) got (I)\n",
      "Expected (B) got (C)\n",
      "Expected (A) got (D)\n",
      "Expected (D) got (J)\n",
      "Expected (C) got (D)\n",
      "Expected (E) got (C)\n",
      "Expected (A) got (C)\n",
      "Expected (O) got (K)\n",
      "Expected (G) got (E)\n",
      "Expected (A) got (D)\n",
      "Expected (B) got (C)\n",
      "Expected (B) got (R)\n",
      "Expected (G) got (K)\n",
      "Expected (B) got (C)\n",
      "Expected (M) got (J)\n",
      "Expected (A) got (C)\n",
      "Expected (A) got (K)\n",
      "Expected (I) got (K)\n",
      "Expected (F) got (D)\n",
      "Expected (D) got (E)\n",
      "Expected (G) got (E)\n",
      "Expected (D) got (C)\n",
      "Expected (A) got (I)\n",
      "Expected (F) got (I)\n",
      "Expected (A) got (C)\n",
      "Expected (E) got (C)\n",
      "Expected (B) got (C)\n",
      "Expected (P) got (O)\n",
      "Expected (G) got (D)\n",
      "Expected (L) got (D)\n",
      "Expected (L) got (M)\n",
      "Expected (B) got (D)\n",
      "Expected (A) got (E)\n",
      "Expected (A) got (B)\n",
      "Expected (B) got (C)\n",
      "Expected (C) got (D)\n",
      "Expected (D) got (C)\n",
      "Expected (F) got (E)\n",
      "Expected (G) got (D)\n",
      "Expected (F) got (Z)\n",
      "Expected (J) got (F)\n",
      "Expected (C) got (B)\n",
      "Expected (D) got (B)\n",
      "Expected (F) got (D)\n",
      "Expected (R) got (K)\n",
      "Expected (A) got (I)\n",
      "Expected (E) got (Z)\n",
      "Expected (B) got (C)\n",
      "Expected (E) got (D)\n",
      "Expected (B) got (C)\n",
      "Expected (G) got (K)\n",
      "Expected (O) got (Z)\n",
      "Expected (N) got (C)\n",
      "Expected (B) got (D)\n",
      "Expected (E) got (C)\n",
      "Expected (A) got (C)\n",
      "Expected (H) got (C)\n",
      "Expected (F) got (D)\n",
      "Expected (B) got (C)\n",
      "Expected (N) got (M)\n",
      "Expected (A) got (E)\n",
      "Expected (B) got (C)\n",
      "Expected (B) got (D)\n",
      "Expected (D) got (E)\n",
      "Expected (I) got (D)\n",
      "Expected (A) got (D)\n",
      "Expected (J) got (N)\n",
      "Expected (B) got (D)\n",
      "Expected (E) got (D)\n",
      "Expected (F) got (C)\n",
      "Expected (M) got (N)\n",
      "Expected (F) got (E)\n",
      "Expected (C) got (B)\n",
      "Expected (A) got (D)\n",
      "Expected (A) got (D)\n",
      "Expected (B) got (Q)\n",
      "Expected (E) got (C)\n",
      "Expected (E) got (I)\n"
     ]
    }
   ],
   "source": [
    "def solve_cot(item):\n",
    "    raw_response = llama3(prompt_cot(item), temperature=0, max_tokens=150, stop=[\"Done\"])\n",
    "    response = extract_cot(raw_response)\n",
    "    if item[\"target\"] == response:\n",
    "        return True, raw_response\n",
    "    else:\n",
    "        print(f\"Expected {item['target']} got {response}\")\n",
    "        return False, raw_response\n",
    "    \n",
    "\n",
    "def accuracy_cot(items):\n",
    "    num_correct = 0\n",
    "    failures = [ ]\n",
    "    for item in tqdm(items):\n",
    "        result, thought = solve_cot(item)\n",
    "        if result:\n",
    "            num_correct += 1\n",
    "        else:\n",
    "            failures.append({ \"thought\": thought, **item })\n",
    "\n",
    "    return (num_correct / len(items), failures)\n",
    "\n",
    "\n",
    "accuracy, failures = accuracy_cot(bbh)"
   ]
  },
  {
   "cell_type": "code",
   "execution_count": 47,
   "metadata": {},
   "outputs": [
    {
     "name": "stdout",
     "output_type": "stream",
     "text": [
      "On the table, you see several items arranged in a row: a fuchsia teddy bear, a red jug, a gold puzzle, a burgundy bracelet, and a green notebook. How many non-magenta items do you see to the right of the red item?\n",
      "Options:\n",
      "(A) zero\n",
      "(B) one\n",
      "(C) two\n",
      "(D) three\n",
      "(E) four\n",
      "(F) five\n",
      "(G) six\n",
      "***\n",
      " The list is arranged from left to right. The red jug is the second item in the list. The fuchsia teddy bear is the first item in the list. The gold puzzle is the third item in the list. The burgundy bracelet is the fourth item in the list. The green notebook is the fifth item in the list. There are four non-magenta items to the right of the red item.\n",
      "\n",
      "Answer: (E) four\n",
      "\n",
      "\n"
     ]
    }
   ],
   "source": [
    "print(failures[0][\"input\"])\n",
    "print(\"***\")\n",
    "print(failures[0][\"thought\"])"
   ]
  },
  {
   "cell_type": "markdown",
   "metadata": {},
   "source": []
  },
  {
   "cell_type": "code",
   "execution_count": null,
   "metadata": {},
   "outputs": [],
   "source": [
    "cot_failures = [ ]\n",
    "cot_successes = [ ]"
   ]
  }
 ],
 "metadata": {
  "kernelspec": {
   "display_name": "Python 3 (ipykernel)",
   "language": "python",
   "name": "python3"
  },
  "language_info": {
   "codemirror_mode": {
    "name": "ipython",
    "version": 3
   },
   "file_extension": ".py",
   "mimetype": "text/x-python",
   "name": "python",
   "nbconvert_exporter": "python",
   "pygments_lexer": "ipython3",
   "version": "3.9.6"
  }
 },
 "nbformat": 4,
 "nbformat_minor": 4
}
